{
 "cells": [
  {
   "cell_type": "markdown",
   "id": "c48661b9",
   "metadata": {},
   "source": [
    "<h1>arr = [2,3,5,6,8,10]</h1>\n",
    "<h1>sum = 10</h1>\n",
    "<h2>Possible subsets :- {10} {2,8} {5,2,3} {6,3,1}</h2>\n",
    "<h2>o/p = 4</h2>"
   ]
  },
  {
   "cell_type": "code",
   "execution_count": 1,
   "id": "7a7b96d5",
   "metadata": {},
   "outputs": [],
   "source": [
    "arr = [2,3,5,6,8,10]\n",
    "n = len(arr)\n",
    "summ = 10"
   ]
  },
  {
   "cell_type": "code",
   "execution_count": 2,
   "id": "5ed4e189",
   "metadata": {},
   "outputs": [],
   "source": [
    "dp = [[_ for i in range(summ + 1)] for j in range(n + 1)]"
   ]
  },
  {
   "cell_type": "code",
   "execution_count": 3,
   "id": "4a48e339",
   "metadata": {},
   "outputs": [],
   "source": [
    "for i in range(n+1):\n",
    "    for j in range(summ+1):\n",
    "        if i == 0:\n",
    "            dp[i][j] = 0\n",
    "        if j == 0:\n",
    "            dp[i][j] = 1\n",
    "            \n",
    "for i in range(1,n+1):\n",
    "    for j in range(1,summ+1):\n",
    "        if arr[i - 1] <= summ:\n",
    "            dp[i][j] = dp[i-1][j] + dp[i-1][j-arr[i-1]]\n",
    "        else:\n",
    "            dp[i][j] = dp[i-1][j]"
   ]
  },
  {
   "cell_type": "code",
   "execution_count": 4,
   "id": "604b8cf9",
   "metadata": {},
   "outputs": [
    {
     "data": {
      "text/plain": [
       "4"
      ]
     },
     "execution_count": 4,
     "metadata": {},
     "output_type": "execute_result"
    }
   ],
   "source": [
    "dp[n][summ]"
   ]
  }
 ],
 "metadata": {
  "kernelspec": {
   "display_name": "Python 3",
   "language": "python",
   "name": "python3"
  },
  "language_info": {
   "codemirror_mode": {
    "name": "ipython",
    "version": 3
   },
   "file_extension": ".py",
   "mimetype": "text/x-python",
   "name": "python",
   "nbconvert_exporter": "python",
   "pygments_lexer": "ipython3",
   "version": "3.8.10"
  }
 },
 "nbformat": 4,
 "nbformat_minor": 5
}
