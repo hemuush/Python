{
 "cells": [
  {
   "cell_type": "markdown",
   "id": "c3773403",
   "metadata": {},
   "source": [
    "<h1>Recursive ---> Memoization</h1>"
   ]
  },
  {
   "cell_type": "code",
   "execution_count": 1,
   "id": "5f98e6aa",
   "metadata": {},
   "outputs": [],
   "source": [
    "wt = [1,3,4,5]\n",
    "vl = [1,3,5,6]\n",
    "w  = 10\n",
    "n = len(vl)\n",
    "dp = [[-1 for i in range(w+1)] for j in range(n+1)]"
   ]
  },
  {
   "cell_type": "code",
   "execution_count": 2,
   "id": "77893168",
   "metadata": {},
   "outputs": [],
   "source": [
    "def knapsack(wt,vl,w,n):\n",
    "    if (n == 0 or w == 0):\n",
    "        return 0\n",
    "    \n",
    "    if dp[n][w] != -1:\n",
    "        return dp[n][w]\n",
    "    \n",
    "    if wt[n-1] <= w:\n",
    "        dp[n][w] = max(vl[n-1] + knapsack(wt,vl,w,n-1) , knapsack(wt, vl, w, n-1))\n",
    "        return dp[n][w]\n",
    "    elif wt[n-1] > w:\n",
    "        dp[n][w] = knapsack(wt,vl,w,n-1)\n",
    "        return dp[n][w]"
   ]
  },
  {
   "cell_type": "code",
   "execution_count": 3,
   "id": "bad5cb79",
   "metadata": {},
   "outputs": [
    {
     "name": "stdout",
     "output_type": "stream",
     "text": [
      "15\n"
     ]
    }
   ],
   "source": [
    "print(knapsack(wt,vl,w,n))"
   ]
  },
  {
   "cell_type": "markdown",
   "id": "bd84ff54",
   "metadata": {},
   "source": [
    "<h1>Top Down Approach</h1>"
   ]
  },
  {
   "cell_type": "code",
   "execution_count": 4,
   "id": "8749e0ca",
   "metadata": {},
   "outputs": [],
   "source": [
    "wt = [1,3,4,5]\n",
    "vl = [1,3,5,6]\n",
    "W = 10\n",
    "N = len(vl)\n",
    "dp1 = [[-1 for i in range(W+1)] for j in range(N+1)]"
   ]
  },
  {
   "cell_type": "code",
   "execution_count": 5,
   "id": "2bd34568",
   "metadata": {},
   "outputs": [
    {
     "data": {
      "text/plain": [
       "[[-1, -1, -1, -1, -1, -1, -1, -1, -1, -1, -1],\n",
       " [-1, -1, -1, -1, -1, -1, -1, -1, -1, -1, -1],\n",
       " [-1, -1, -1, -1, -1, -1, -1, -1, -1, -1, -1],\n",
       " [-1, -1, -1, -1, -1, -1, -1, -1, -1, -1, -1],\n",
       " [-1, -1, -1, -1, -1, -1, -1, -1, -1, -1, -1]]"
      ]
     },
     "execution_count": 5,
     "metadata": {},
     "output_type": "execute_result"
    }
   ],
   "source": [
    "dp1"
   ]
  },
  {
   "cell_type": "code",
   "execution_count": 6,
   "id": "78b86166",
   "metadata": {},
   "outputs": [],
   "source": [
    "for i in range(N+1):\n",
    "    for j in range(W+1):\n",
    "        if (i == 0 or j == 0):\n",
    "            dp1[i][j] = 0"
   ]
  },
  {
   "cell_type": "code",
   "execution_count": 7,
   "id": "abd1c431",
   "metadata": {},
   "outputs": [
    {
     "data": {
      "text/plain": [
       "[[0, 0, 0, 0, 0, 0, 0, 0, 0, 0, 0],\n",
       " [0, -1, -1, -1, -1, -1, -1, -1, -1, -1, -1],\n",
       " [0, -1, -1, -1, -1, -1, -1, -1, -1, -1, -1],\n",
       " [0, -1, -1, -1, -1, -1, -1, -1, -1, -1, -1],\n",
       " [0, -1, -1, -1, -1, -1, -1, -1, -1, -1, -1]]"
      ]
     },
     "execution_count": 7,
     "metadata": {},
     "output_type": "execute_result"
    }
   ],
   "source": [
    "dp1"
   ]
  },
  {
   "cell_type": "code",
   "execution_count": 8,
   "id": "7eb22da1",
   "metadata": {},
   "outputs": [],
   "source": [
    "for i in range(1,N+1):\n",
    "    for j in range(1, W+1):\n",
    "        if wt[i-1] <= W:\n",
    "            dp1[i][j] = max(vl[i-1] + dp1[i-1][j-wt[i-1]] , dp1[i-1][j])\n",
    "        else:\n",
    "            dp1[i][j] = dp1[i-1][j]"
   ]
  },
  {
   "cell_type": "code",
   "execution_count": 10,
   "id": "099aeb89",
   "metadata": {},
   "outputs": [
    {
     "data": {
      "text/plain": [
       "15"
      ]
     },
     "execution_count": 10,
     "metadata": {},
     "output_type": "execute_result"
    }
   ],
   "source": [
    "dp[N][W]"
   ]
  }
 ],
 "metadata": {
  "kernelspec": {
   "display_name": "Python 3",
   "language": "python",
   "name": "python3"
  },
  "language_info": {
   "codemirror_mode": {
    "name": "ipython",
    "version": 3
   },
   "file_extension": ".py",
   "mimetype": "text/x-python",
   "name": "python",
   "nbconvert_exporter": "python",
   "pygments_lexer": "ipython3",
   "version": "3.8.10"
  }
 },
 "nbformat": 4,
 "nbformat_minor": 5
}
