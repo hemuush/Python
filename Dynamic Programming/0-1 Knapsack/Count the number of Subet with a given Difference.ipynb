{
 "cells": [
  {
   "cell_type": "markdown",
   "id": "4b9b24a5",
   "metadata": {},
   "source": [
    "<h1>arr = [1 1 2 3]\n",
    "<br>\n",
    "diff = 1\n",
    "<br>\n",
    "o/p = 3\n",
    "<br>\n",
    "we have to find pair of subsets whoses difference is 1.\n",
    "</h1>"
   ]
  },
  {
   "cell_type": "code",
   "execution_count": 1,
   "id": "c38ae97f",
   "metadata": {},
   "outputs": [],
   "source": [
    "arr = [1, 1, 2, 3]\n",
    "diff = 1\n",
    "summ = sum(arr)\n",
    "n = len(arr)\n",
    "dp = []"
   ]
  },
  {
   "cell_type": "markdown",
   "id": "4df4bc43",
   "metadata": {},
   "source": [
    "<p>So, the concept is we have to pair of subset whose difference is given.\n",
    "<br>\n",
    "we have to reduce our problem into simpler way and if we one subset then we automatically find 2nd subset or no need to find 2nd subset because we can find number of subset available using 1 subset.\n",
    "<br>\n",
    "So, basic funda is:\n",
    " we have diff i.e Subset1 - Subset2 = diff .........1\n",
    "<br>\n",
    "  second we have, Subset1 + Subset2 = S(Sum)........2\n",
    "<br>\n",
    "by adding 1 and 2....\n",
    "<br>\n",
    "we get, Subset1 = (diff + S)/2\n",
    "</p>"
   ]
  },
  {
   "cell_type": "code",
   "execution_count": 2,
   "id": "2b865602",
   "metadata": {},
   "outputs": [],
   "source": [
    "subset1 = (diff + summ) // 2"
   ]
  },
  {
   "cell_type": "code",
   "execution_count": 3,
   "id": "7aeff8fd",
   "metadata": {},
   "outputs": [
    {
     "data": {
      "text/plain": [
       "4"
      ]
     },
     "execution_count": 3,
     "metadata": {},
     "output_type": "execute_result"
    }
   ],
   "source": [
    "subset1"
   ]
  },
  {
   "cell_type": "code",
   "execution_count": 4,
   "id": "e5b5ee20",
   "metadata": {},
   "outputs": [],
   "source": [
    "def subset(dp,arr,summ,n):\n",
    "    dp = [[_ for i in range(summ+1)] for j in range(n + 1)]\n",
    "    \n",
    "    for i in range(n + 1):\n",
    "        for j in range(summ + 1):\n",
    "            if i == 0:\n",
    "                dp[i][j] = 0\n",
    "            if j == 0:\n",
    "                dp[i][j] = 1\n",
    "    \n",
    "    for i in range(1, n+1):\n",
    "        for j in range(1, summ+1):\n",
    "            if arr[i-1] <= summ:\n",
    "                dp[i][j] = dp[i-1][j] + dp[i - 1][j - arr[i - 1]]\n",
    "            else:\n",
    "                dp[i][j] = dp[i - 1][j]\n",
    "    return dp[n][summ]"
   ]
  },
  {
   "cell_type": "code",
   "execution_count": 5,
   "id": "4bdc0fbf",
   "metadata": {},
   "outputs": [
    {
     "data": {
      "text/plain": [
       "3"
      ]
     },
     "execution_count": 5,
     "metadata": {},
     "output_type": "execute_result"
    }
   ],
   "source": [
    "subset(dp, arr, subset1, n)"
   ]
  }
 ],
 "metadata": {
  "kernelspec": {
   "display_name": "Python 3",
   "language": "python",
   "name": "python3"
  },
  "language_info": {
   "codemirror_mode": {
    "name": "ipython",
    "version": 3
   },
   "file_extension": ".py",
   "mimetype": "text/x-python",
   "name": "python",
   "nbconvert_exporter": "python",
   "pygments_lexer": "ipython3",
   "version": "3.8.10"
  }
 },
 "nbformat": 4,
 "nbformat_minor": 5
}
