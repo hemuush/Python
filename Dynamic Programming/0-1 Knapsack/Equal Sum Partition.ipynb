{
 "cells": [
  {
   "cell_type": "markdown",
   "id": "76c4218a",
   "metadata": {},
   "source": [
    "<h1>Problem :- <h5>We have to find two subset whose's Sum of 2 Subset is Equal</h5></h1>\n",
    "<h1>arr = [1 5 11 5]</h1>\n",
    "<h1>O/P = True</h1>"
   ]
  },
  {
   "cell_type": "code",
   "execution_count": 1,
   "id": "30f966e2",
   "metadata": {},
   "outputs": [],
   "source": [
    "arr = [1,5,11,5]\n",
    "n = len(arr)\n",
    "summ = sum(arr)\n",
    "matrix = []"
   ]
  },
  {
   "cell_type": "code",
   "execution_count": 2,
   "id": "4d2a58f9",
   "metadata": {},
   "outputs": [],
   "source": [
    "def subset_sum(matrix, summ, n, arr):\n",
    "    matrix = [[_ for i in range(summ + 1)] for j in range(n + 1)]\n",
    "    \n",
    "    for i in range(n + 1):\n",
    "        for j in range(summ + 1):\n",
    "            if i == 0:\n",
    "                matrix[i][j] = False\n",
    "            if j == 0:\n",
    "                matrix[i][j] = True\n",
    "            \n",
    "    for i in range(1, n + 1):\n",
    "        for j in range(1, summ + 1):\n",
    "            if arr[i-1] <= j:\n",
    "                matrix[i][j] = matrix[i - 1][j - arr[i - 1]] or matrix[i-1][j]\n",
    "            else:\n",
    "                matrix[i][j] = matrix[i-1][j]\n",
    "            \n",
    "    return matrix[n][summ]"
   ]
  },
  {
   "cell_type": "code",
   "execution_count": 3,
   "id": "5ab11459",
   "metadata": {},
   "outputs": [
    {
     "name": "stdout",
     "output_type": "stream",
     "text": [
      "True\n"
     ]
    }
   ],
   "source": [
    "if summ % 2 != 0:\n",
    "    print(\"False\")\n",
    "else:\n",
    "    result = subset_sum(matrix, int(summ/2), n, arr)\n",
    "    print(result)"
   ]
  }
 ],
 "metadata": {
  "kernelspec": {
   "display_name": "Python 3",
   "language": "python",
   "name": "python3"
  },
  "language_info": {
   "codemirror_mode": {
    "name": "ipython",
    "version": 3
   },
   "file_extension": ".py",
   "mimetype": "text/x-python",
   "name": "python",
   "nbconvert_exporter": "python",
   "pygments_lexer": "ipython3",
   "version": "3.8.10"
  }
 },
 "nbformat": 4,
 "nbformat_minor": 5
}
