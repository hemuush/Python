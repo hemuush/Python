{
 "cells": [
  {
   "cell_type": "markdown",
   "id": "6986bfbe",
   "metadata": {},
   "source": [
    "<h1>Subset Sum Problem</h1>\n",
    "\n",
    "<h3>Given array :- [7,4,8]</h3>\n",
    "<h3>Sum = 11</h3>\n",
    "\n",
    "<h3>Output :- True({7,4})</h3>"
   ]
  },
  {
   "cell_type": "code",
   "execution_count": 1,
   "id": "9a166601",
   "metadata": {},
   "outputs": [],
   "source": [
    "arr = [1,5,11,5]\n",
    "sume = 11\n",
    "n = len(arr)"
   ]
  },
  {
   "cell_type": "code",
   "execution_count": 2,
   "id": "dbd8e60a",
   "metadata": {},
   "outputs": [],
   "source": [
    "dp = [[_ for i in range(sume+1)] for j in range(n + 1)]"
   ]
  },
  {
   "cell_type": "code",
   "execution_count": 3,
   "id": "85d24660",
   "metadata": {
    "scrolled": true
   },
   "outputs": [
    {
     "data": {
      "text/plain": [
       "[['', '', '', '', '', '', '', '', '', '', '', ''],\n",
       " ['', '', '', '', '', '', '', '', '', '', '', ''],\n",
       " ['', '', '', '', '', '', '', '', '', '', '', ''],\n",
       " ['', '', '', '', '', '', '', '', '', '', '', ''],\n",
       " ['', '', '', '', '', '', '', '', '', '', '', '']]"
      ]
     },
     "execution_count": 3,
     "metadata": {},
     "output_type": "execute_result"
    }
   ],
   "source": [
    "dp"
   ]
  },
  {
   "cell_type": "code",
   "execution_count": 4,
   "id": "f0a54b98",
   "metadata": {},
   "outputs": [],
   "source": [
    "for i in range(n + 1):\n",
    "    for j in range(sume+1):\n",
    "        if i == 0:\n",
    "            dp[i][j] = False\n",
    "        if j == 0:\n",
    "            dp[i][j] = True"
   ]
  },
  {
   "cell_type": "code",
   "execution_count": 5,
   "id": "8ec19e49",
   "metadata": {},
   "outputs": [
    {
     "data": {
      "text/plain": [
       "[[True,\n",
       "  False,\n",
       "  False,\n",
       "  False,\n",
       "  False,\n",
       "  False,\n",
       "  False,\n",
       "  False,\n",
       "  False,\n",
       "  False,\n",
       "  False,\n",
       "  False],\n",
       " [True, '', '', '', '', '', '', '', '', '', '', ''],\n",
       " [True, '', '', '', '', '', '', '', '', '', '', ''],\n",
       " [True, '', '', '', '', '', '', '', '', '', '', ''],\n",
       " [True, '', '', '', '', '', '', '', '', '', '', '']]"
      ]
     },
     "execution_count": 5,
     "metadata": {},
     "output_type": "execute_result"
    }
   ],
   "source": [
    "dp"
   ]
  },
  {
   "cell_type": "code",
   "execution_count": 6,
   "id": "0dbcbe17",
   "metadata": {},
   "outputs": [
    {
     "name": "stdout",
     "output_type": "stream",
     "text": [
      "True\n"
     ]
    }
   ],
   "source": [
    "for i in range(1,n+1):\n",
    "    for j in range(1,sume+1):\n",
    "        if arr[i-1] <= j:\n",
    "            dp[i][j] = dp[i-1][j - arr[i-1]] or dp[i-1][j]\n",
    "        else:\n",
    "            dp[i][j] = dp[i-1][j]\n",
    "\n",
    "print(dp[n][sume])"
   ]
  },
  {
   "cell_type": "code",
   "execution_count": 7,
   "id": "027e8172",
   "metadata": {},
   "outputs": [
    {
     "data": {
      "text/plain": [
       "[[True,\n",
       "  False,\n",
       "  False,\n",
       "  False,\n",
       "  False,\n",
       "  False,\n",
       "  False,\n",
       "  False,\n",
       "  False,\n",
       "  False,\n",
       "  False,\n",
       "  False],\n",
       " [True,\n",
       "  True,\n",
       "  False,\n",
       "  False,\n",
       "  False,\n",
       "  False,\n",
       "  False,\n",
       "  False,\n",
       "  False,\n",
       "  False,\n",
       "  False,\n",
       "  False],\n",
       " [True,\n",
       "  True,\n",
       "  False,\n",
       "  False,\n",
       "  False,\n",
       "  True,\n",
       "  True,\n",
       "  False,\n",
       "  False,\n",
       "  False,\n",
       "  False,\n",
       "  False],\n",
       " [True,\n",
       "  True,\n",
       "  False,\n",
       "  False,\n",
       "  False,\n",
       "  True,\n",
       "  True,\n",
       "  False,\n",
       "  False,\n",
       "  False,\n",
       "  False,\n",
       "  True],\n",
       " [True,\n",
       "  True,\n",
       "  False,\n",
       "  False,\n",
       "  False,\n",
       "  True,\n",
       "  True,\n",
       "  False,\n",
       "  False,\n",
       "  False,\n",
       "  True,\n",
       "  True]]"
      ]
     },
     "execution_count": 7,
     "metadata": {},
     "output_type": "execute_result"
    }
   ],
   "source": [
    "dp"
   ]
  }
 ],
 "metadata": {
  "kernelspec": {
   "display_name": "Python 3",
   "language": "python",
   "name": "python3"
  },
  "language_info": {
   "codemirror_mode": {
    "name": "ipython",
    "version": 3
   },
   "file_extension": ".py",
   "mimetype": "text/x-python",
   "name": "python",
   "nbconvert_exporter": "python",
   "pygments_lexer": "ipython3",
   "version": "3.8.10"
  }
 },
 "nbformat": 4,
 "nbformat_minor": 5
}
