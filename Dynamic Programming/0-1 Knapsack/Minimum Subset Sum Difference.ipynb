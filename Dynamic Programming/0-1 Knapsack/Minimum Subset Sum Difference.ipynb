{
 "cells": [
  {
   "cell_type": "markdown",
   "id": "fc016f53",
   "metadata": {},
   "source": [
    "<h3>arr = [1,6,11,5]</h3>\n",
    "<h3>o/p = 1</h3>\n",
    "<p>we have following subset of above array: \n",
    "<br>\n",
    "{1,6} {11,5} and sum of difference of both subset is 9.\n",
    "<br>\n",
    "similarly, {11} {6,5,1} is 1 which is minimum.\n",
    "<br>\n",
    "so, we have to find that.</p>"
   ]
  },
  {
   "cell_type": "code",
   "execution_count": 1,
   "id": "d309746a",
   "metadata": {},
   "outputs": [],
   "source": [
    "\"\"\"arr = [1,6,11,5]\n",
    "summ = sum(arr)\n",
    "n = len(arr)\n",
    "dp = []\n",
    "\n",
    "vec = []\"\"\"\n",
    "\n",
    "arr = [8,5,2,9]\n",
    "summ = sum(arr)\n",
    "n = len(arr)\n",
    "vec = []\n",
    "dp = []\n",
    "mini = 99999"
   ]
  },
  {
   "cell_type": "code",
   "execution_count": 2,
   "id": "22084c3c",
   "metadata": {},
   "outputs": [],
   "source": [
    "def sumset(dp,arr,summ,n,vec,mini):\n",
    "    \n",
    "    dp = [[_ for i in range(summ+1)] for j in range(n+1)]\n",
    "    \n",
    "    for i in range(n+1):\n",
    "        for j in range(summ + 1):\n",
    "            if i == 0 :\n",
    "                dp[i][j] = False\n",
    "            if j == 0:\n",
    "                dp[i][j] = True\n",
    "                \n",
    "    for i in range(1,n+1):\n",
    "        for j in range(1,summ + 1):\n",
    "            if arr[i-1] <= summ:\n",
    "                dp[i][j] = dp[i-1][j - arr[i - 1]] or dp[i-1][j]\n",
    "                \n",
    "            else:\n",
    "                dp[i][j] = dp[i-1][j]\n",
    "                \n",
    "    for i in range(n+1):\n",
    "        for j in range(summ + 1):\n",
    "            if i == len(arr):\n",
    "                if dp[i][j] == True:\n",
    "                    vec.append(j)\n",
    "                    \n",
    "    vec = vec[0:len(vec)//2]\n",
    "    \n",
    "    for i in range(len(vec)):\n",
    "        mn = min(mini, summ - 2 * vec[i])\n",
    "    return mn"
   ]
  },
  {
   "cell_type": "code",
   "execution_count": 3,
   "id": "c6a79377",
   "metadata": {},
   "outputs": [
    {
     "data": {
      "text/plain": [
       "2"
      ]
     },
     "execution_count": 3,
     "metadata": {},
     "output_type": "execute_result"
    }
   ],
   "source": [
    "sumset(dp,arr,summ,n,vec,mini)"
   ]
  }
 ],
 "metadata": {
  "kernelspec": {
   "display_name": "Python 3",
   "language": "python",
   "name": "python3"
  },
  "language_info": {
   "codemirror_mode": {
    "name": "ipython",
    "version": 3
   },
   "file_extension": ".py",
   "mimetype": "text/x-python",
   "name": "python",
   "nbconvert_exporter": "python",
   "pygments_lexer": "ipython3",
   "version": "3.8.10"
  }
 },
 "nbformat": 4,
 "nbformat_minor": 5
}
