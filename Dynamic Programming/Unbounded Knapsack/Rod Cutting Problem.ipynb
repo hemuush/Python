{
 "cells": [
  {
   "cell_type": "markdown",
   "id": "7ffd7f02",
   "metadata": {},
   "source": [
    "# Rod Cutting Problem\n",
    "\n",
    "### Problem is we have to cut the rod in that proportion in which we get maximum profit. we have length of rod and given price of rod at different length we have to maximum price in which rod is divided into two different length."
   ]
  },
  {
   "cell_type": "code",
   "execution_count": 1,
   "id": "118382cc",
   "metadata": {},
   "outputs": [],
   "source": [
    "length = [1,2,3,4,5,6,7,8]\n",
    "price = [1,5,8,9,10,17,17,20]"
   ]
  },
  {
   "cell_type": "code",
   "execution_count": 2,
   "id": "7c600894",
   "metadata": {},
   "outputs": [],
   "source": [
    "def rodCutting(price, length):\n",
    "    n = len(length)\n",
    "    dp = [[_ for i in range(n+1)] for j in range(n+1)]\n",
    "    \n",
    "    for i in range(n + 1):\n",
    "        for j in range(n + 1):\n",
    "            if i == 0:\n",
    "                dp[i][j] = 0\n",
    "            if j == 0:\n",
    "                dp[i][j] = 0\n",
    "                \n",
    "    for i in range(1,n+1):\n",
    "        for j in range(1,n + 1):\n",
    "            if length[i - 1] <= j:\n",
    "                dp[i][j] = max(price[i-1] + dp[i-1][j - length[i-1]] , dp[i-1][j])\n",
    "            else:\n",
    "                dp[i][j] = dp[i-1][j]\n",
    "    return dp[n][n]"
   ]
  },
  {
   "cell_type": "code",
   "execution_count": 3,
   "id": "85be4d29",
   "metadata": {},
   "outputs": [
    {
     "data": {
      "text/plain": [
       "22"
      ]
     },
     "execution_count": 3,
     "metadata": {},
     "output_type": "execute_result"
    }
   ],
   "source": [
    "rodCutting(price, length)"
   ]
  }
 ],
 "metadata": {
  "kernelspec": {
   "display_name": "Python 3",
   "language": "python",
   "name": "python3"
  },
  "language_info": {
   "codemirror_mode": {
    "name": "ipython",
    "version": 3
   },
   "file_extension": ".py",
   "mimetype": "text/x-python",
   "name": "python",
   "nbconvert_exporter": "python",
   "pygments_lexer": "ipython3",
   "version": "3.8.10"
  }
 },
 "nbformat": 4,
 "nbformat_minor": 5
}
