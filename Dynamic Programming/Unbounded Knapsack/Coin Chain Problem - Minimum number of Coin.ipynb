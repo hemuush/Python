{
 "cells": [
  {
   "cell_type": "markdown",
   "id": "01794057",
   "metadata": {},
   "source": [
    "# Coin Chain Problem : Minimum Number of Coin\n",
    "\n",
    "### In this we have to find minimum numbers of coin whose sum is given as input.\n",
    "\n",
    "<p>Coin = [1 2 3]\n",
    "<br>\n",
    "and sum is 5.\n",
    "<br>\n",
    "We have to find min no. of coin in such way whose sum is 5</p>"
   ]
  },
  {
   "cell_type": "code",
   "execution_count": 1,
   "id": "66d38605",
   "metadata": {},
   "outputs": [],
   "source": [
    "import sys\n",
    "coin = [1,2,3]\n",
    "sum = 5\n",
    "n = len(coin)\n",
    "dp = [[_ for i in range(sum + 1)] for j in range(n + 1)]"
   ]
  },
  {
   "cell_type": "code",
   "execution_count": 2,
   "id": "281d44ec",
   "metadata": {},
   "outputs": [],
   "source": [
    "for i in range(n + 1):\n",
    "    for j in range(sum + 1):\n",
    "        if j == 0:\n",
    "            dp[i][j] = 0\n",
    "        if i == 0:\n",
    "            dp[i][j] = sys.maxsize - 1\n",
    "            \n",
    "        if i == 1:\n",
    "            for j in range(1, sum + 1):\n",
    "                if(j % coin[0] == 0):\n",
    "                    dp[i][j] = j/coin[0]\n",
    "                else:\n",
    "                    dp[i][j] = sys.maxsize - 1"
   ]
  },
  {
   "cell_type": "code",
   "execution_count": 3,
   "id": "3e4192c9",
   "metadata": {},
   "outputs": [],
   "source": [
    "for i in range(2, n + 1):\n",
    "    for j in range(1, sum + 1):\n",
    "        if coin[i - 1] <= j:\n",
    "            dp[i][j] = min(dp[i][j - coin[i-1] + 1], dp[i-1][j])\n",
    "        else:\n",
    "            dp[i][j] = dp[i-1][j]"
   ]
  },
  {
   "cell_type": "code",
   "execution_count": 4,
   "id": "440db159",
   "metadata": {},
   "outputs": [
    {
     "data": {
      "text/plain": [
       "1.0"
      ]
     },
     "execution_count": 4,
     "metadata": {},
     "output_type": "execute_result"
    }
   ],
   "source": [
    "dp[n][sum]"
   ]
  },
  {
   "cell_type": "code",
   "execution_count": 5,
   "id": "2bac2ef8",
   "metadata": {},
   "outputs": [
    {
     "data": {
      "text/plain": [
       "[[9223372036854775806,\n",
       "  9223372036854775806,\n",
       "  9223372036854775806,\n",
       "  9223372036854775806,\n",
       "  9223372036854775806,\n",
       "  9223372036854775806],\n",
       " [0, 1.0, 2.0, 3.0, 4.0, 5.0],\n",
       " [0, 1.0, 1.0, 1.0, 1.0, 1.0],\n",
       " [0, 1.0, 1.0, 1.0, 1.0, 1.0]]"
      ]
     },
     "execution_count": 5,
     "metadata": {},
     "output_type": "execute_result"
    }
   ],
   "source": [
    "dp"
   ]
  }
 ],
 "metadata": {
  "kernelspec": {
   "display_name": "Python 3",
   "language": "python",
   "name": "python3"
  },
  "language_info": {
   "codemirror_mode": {
    "name": "ipython",
    "version": 3
   },
   "file_extension": ".py",
   "mimetype": "text/x-python",
   "name": "python",
   "nbconvert_exporter": "python",
   "pygments_lexer": "ipython3",
   "version": "3.8.10"
  }
 },
 "nbformat": 4,
 "nbformat_minor": 5
}
