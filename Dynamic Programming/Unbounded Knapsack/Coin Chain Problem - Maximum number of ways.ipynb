{
 "cells": [
  {
   "cell_type": "markdown",
   "id": "a32c21e2",
   "metadata": {},
   "source": [
    "# Coin Chain Problem\n",
    "###\n",
    "\n",
    "### coin  = [1 2 3]\n",
    "\n",
    "<h1>o/p = 5</h1>\n",
    "\n",
    "<p>we have to find the number of coin sum possible whose sum is 5</p>\n",
    "<p>we have to find Subset whose sum is 5</p>"
   ]
  },
  {
   "cell_type": "code",
   "execution_count": 1,
   "id": "15e326e5",
   "metadata": {},
   "outputs": [],
   "source": [
    "coin = [2,2,3]\n",
    "sum = 5\n",
    "dp = [[_ for i in range(sum + 1)] for j in range(len(coin) + 1)]"
   ]
  },
  {
   "cell_type": "code",
   "execution_count": 2,
   "id": "29ac4627",
   "metadata": {},
   "outputs": [],
   "source": [
    "for i in range(len(coin) + 1):\n",
    "    for j in range(sum + 1):\n",
    "        if j == 0:\n",
    "            dp[i][j] = 1\n",
    "        if i == 0:\n",
    "            dp[i][j] = 0"
   ]
  },
  {
   "cell_type": "code",
   "execution_count": 3,
   "id": "3c2ce8bf",
   "metadata": {},
   "outputs": [
    {
     "data": {
      "text/plain": [
       "[[0, 0, 0, 0, 0, 0],\n",
       " [1, '', '', '', '', ''],\n",
       " [1, '', '', '', '', ''],\n",
       " [1, '', '', '', '', '']]"
      ]
     },
     "execution_count": 3,
     "metadata": {},
     "output_type": "execute_result"
    }
   ],
   "source": [
    "dp"
   ]
  },
  {
   "cell_type": "code",
   "execution_count": 4,
   "id": "782b2646",
   "metadata": {},
   "outputs": [],
   "source": [
    "for i in range(1,len(coin) + 1):\n",
    "    for j in range(1,sum + 1):\n",
    "            if coin[i-1] <= j:\n",
    "                dp[i][j] = dp[i-1][j] + dp[i][j - coin[i -1]]\n",
    "            else:\n",
    "                dp[i][j] = dp[i-1][j]"
   ]
  },
  {
   "cell_type": "code",
   "execution_count": 5,
   "id": "f12635d8",
   "metadata": {},
   "outputs": [
    {
     "data": {
      "text/plain": [
       "[[0, 0, 0, 0, 0, 0],\n",
       " [1, 0, 1, 0, 1, 0],\n",
       " [1, 0, 2, 0, 3, 0],\n",
       " [1, 0, 2, 1, 3, 2]]"
      ]
     },
     "execution_count": 5,
     "metadata": {},
     "output_type": "execute_result"
    }
   ],
   "source": [
    "dp\n"
   ]
  }
 ],
 "metadata": {
  "kernelspec": {
   "display_name": "Python 3",
   "language": "python",
   "name": "python3"
  },
  "language_info": {
   "codemirror_mode": {
    "name": "ipython",
    "version": 3
   },
   "file_extension": ".py",
   "mimetype": "text/x-python",
   "name": "python",
   "nbconvert_exporter": "python",
   "pygments_lexer": "ipython3",
   "version": "3.8.10"
  }
 },
 "nbformat": 4,
 "nbformat_minor": 5
}
