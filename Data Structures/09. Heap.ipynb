{
 "cells": [
  {
   "cell_type": "code",
   "execution_count": 1,
   "id": "660bcb28",
   "metadata": {},
   "outputs": [],
   "source": [
    "def Heapify(arr, n, i):\n",
    "    largest = i\n",
    "    l = i * 2 + 1\n",
    "    r = i * 2 + 2\n",
    "    \n",
    "    if l < n and arr[i] < arr[l]:\n",
    "        largest = l\n",
    "        \n",
    "    if r < n and arr[i] < arr[r]:\n",
    "        largest = r\n",
    "        \n",
    "    if largest != i:\n",
    "        arr[i] , arr[largest] = arr[largest] , arr[i]\n",
    "        Heapify(arr, n, largest)\n",
    "\n",
    "def Insert(arr , num):\n",
    "    size = len(arr)\n",
    "    if size == 0 :\n",
    "        arr.append(num)\n",
    "    else:\n",
    "        arr.append(num)\n",
    "        for i in range((size//2) -1 , -1, -1):\n",
    "            Heapify(arr, size, i)\n",
    "\n",
    "def Delete(arr, num):\n",
    "    size = len(arr)\n",
    "    i = 0\n",
    "    for i in range(0, size):\n",
    "        if num == arr[i]:\n",
    "            break\n",
    "    arr[i],arr[size-1] = arr[size-1],arr[i]\n",
    "    arr.remove(num)\n",
    "    \n",
    "    for i in range((len(arr)//2) - 1, -1, -1):\n",
    "        Heapify(arr, len(arr), i)"
   ]
  },
  {
   "cell_type": "code",
   "execution_count": 2,
   "id": "689e3e59",
   "metadata": {},
   "outputs": [],
   "source": [
    "arr = []"
   ]
  },
  {
   "cell_type": "code",
   "execution_count": 3,
   "id": "96bf24dc",
   "metadata": {},
   "outputs": [],
   "source": [
    "Insert(arr, 3)\n",
    "Insert(arr, 7)\n",
    "Insert(arr, 9)\n",
    "Insert(arr, 5)\n",
    "Insert(arr, 12)"
   ]
  },
  {
   "cell_type": "code",
   "execution_count": 4,
   "id": "9c9b0a62",
   "metadata": {},
   "outputs": [
    {
     "name": "stdout",
     "output_type": "stream",
     "text": [
      "Max Heap array: [9, 5, 7, 3, 12]\n"
     ]
    }
   ],
   "source": [
    "print(\"Max Heap array: \" + str(arr))"
   ]
  },
  {
   "cell_type": "code",
   "execution_count": 5,
   "id": "5455695b",
   "metadata": {},
   "outputs": [],
   "source": [
    "Delete(arr, 12)"
   ]
  },
  {
   "cell_type": "code",
   "execution_count": 6,
   "id": "89fe6f93",
   "metadata": {},
   "outputs": [
    {
     "name": "stdout",
     "output_type": "stream",
     "text": [
      "After Deleting Element : [9, 5, 7, 3]\n"
     ]
    }
   ],
   "source": [
    "print(\"After Deleting Element : \" + str(arr))"
   ]
  }
 ],
 "metadata": {
  "kernelspec": {
   "display_name": "Python 3",
   "language": "python",
   "name": "python3"
  },
  "language_info": {
   "codemirror_mode": {
    "name": "ipython",
    "version": 3
   },
   "file_extension": ".py",
   "mimetype": "text/x-python",
   "name": "python",
   "nbconvert_exporter": "python",
   "pygments_lexer": "ipython3",
   "version": "3.8.8"
  }
 },
 "nbformat": 4,
 "nbformat_minor": 5
}
