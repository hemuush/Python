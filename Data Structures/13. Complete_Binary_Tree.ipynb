{
 "cells": [
  {
   "cell_type": "markdown",
   "id": "eb120598",
   "metadata": {},
   "source": [
    "<h1>Complete Binary Tree</h1>"
   ]
  },
  {
   "cell_type": "markdown",
   "id": "f991756b",
   "metadata": {},
   "source": [
    "<p>All the levels are completely filled except possibly the lowest one, which is filled from left</p>"
   ]
  },
  {
   "cell_type": "code",
   "execution_count": 1,
   "id": "4a9d923c",
   "metadata": {},
   "outputs": [],
   "source": [
    "class Node:\n",
    "    def __init__(self, item):\n",
    "        self.item = item\n",
    "        self.left = None\n",
    "        self.right = None\n",
    "        \n",
    "#Counts the number of nodes\n",
    "def Count_nodes(root):\n",
    "    if root is None:\n",
    "        return False\n",
    "    return (1 + Count_nodes(root.left) + Count_nodes(root.right))\n",
    "\n",
    "#Check if tree is Complete Binary tree\n",
    "def is_complete(root, index, NumberNodes):\n",
    "    if root is None:\n",
    "        return True\n",
    "    \n",
    "    if index >= NumberNodes :\n",
    "        return False\n",
    "    \n",
    "    return (is_complete(root.left, 2 * index + 1, NumberNodes) and is_complete(root.right, 2 * index + 2, NumberNodes))"
   ]
  },
  {
   "cell_type": "code",
   "execution_count": 2,
   "id": "3111a76e",
   "metadata": {},
   "outputs": [],
   "source": [
    "root = Node(1)\n",
    "root.left = Node(2)\n",
    "root.right = Node(3)\n",
    "root.left.left = Node(4)\n",
    "root.left.right = Node(5)\n",
    "root.right.left = Node(6)"
   ]
  },
  {
   "cell_type": "code",
   "execution_count": 3,
   "id": "4ad5ac39",
   "metadata": {},
   "outputs": [],
   "source": [
    "node_count = Count_nodes(root)\n",
    "index = 0"
   ]
  },
  {
   "cell_type": "code",
   "execution_count": 4,
   "id": "8c4efb49",
   "metadata": {},
   "outputs": [
    {
     "name": "stdout",
     "output_type": "stream",
     "text": [
      "The Tree is Complete Binary Tree\n"
     ]
    }
   ],
   "source": [
    "if (is_complete(root, index, node_count)):\n",
    "    print(\"The Tree is Complete Binary Tree\")\n",
    "else:\n",
    "    print(\"The Tree is not Complete Binary Tree\")"
   ]
  }
 ],
 "metadata": {
  "kernelspec": {
   "display_name": "Python 3",
   "language": "python",
   "name": "python3"
  },
  "language_info": {
   "codemirror_mode": {
    "name": "ipython",
    "version": 3
   },
   "file_extension": ".py",
   "mimetype": "text/x-python",
   "name": "python",
   "nbconvert_exporter": "python",
   "pygments_lexer": "ipython3",
   "version": "3.8.8"
  }
 },
 "nbformat": 4,
 "nbformat_minor": 5
}
