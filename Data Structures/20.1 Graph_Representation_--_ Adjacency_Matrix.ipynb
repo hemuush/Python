{
 "cells": [
  {
   "cell_type": "markdown",
   "id": "e76ad5cd",
   "metadata": {},
   "source": [
    "<h1>Graph Representation</h1>\n",
    "<h3>Adjacency Matrix</h3>\n",
    "<p>It is 2D array size of V*V where V is no. of vertices in graph</p>"
   ]
  },
  {
   "cell_type": "code",
   "execution_count": 1,
   "id": "7b8c991c",
   "metadata": {},
   "outputs": [],
   "source": [
    "class Graph:\n",
    "    def __init__(self, numvertex):\n",
    "        self.adjacencyMatrix = [[-1] * numvertex for x in range(numvertex)]\n",
    "        self.numvertex = numvertex\n",
    "        self.vertices = {}\n",
    "        self.vertexlist = [0] * numvertex\n",
    "        \n",
    "    def set_vertex(self, vtx , id):\n",
    "        if 0 <= vtx <= self.numvertex:\n",
    "            self.vertices[id] = vtx\n",
    "            self.vertexlist[vtx] = id\n",
    "            \n",
    "    def set_edge(self, frm, to, cost = 0):\n",
    "        frm = self.vertices[frm]\n",
    "        to = self.vertices[to]\n",
    "        self.adjacencyMatrix[frm][to] = cost\n",
    "        \n",
    "    def get_vertex(self):\n",
    "        return self.vertexlist\n",
    "    \n",
    "    def get_edges(self):\n",
    "        edge = []\n",
    "        for i in range(self.numvertex):\n",
    "            for j in range(self.numvertex):\n",
    "                if self.adjacencyMatrix[i][j] != -1:\n",
    "                    edges.append((self.vertexlist[i], self.vertexlist[j], self.adjacencyMatrix[i][j]))\n",
    "        return edges\n",
    "    \n",
    "    def get_matrix(self):\n",
    "        return self.adjacencyMatrix"
   ]
  },
  {
   "cell_type": "code",
   "execution_count": 2,
   "id": "b0b96c69",
   "metadata": {},
   "outputs": [],
   "source": [
    "G = Graph(6)"
   ]
  },
  {
   "cell_type": "code",
   "execution_count": 3,
   "id": "cf13f0d0",
   "metadata": {},
   "outputs": [
    {
     "data": {
      "text/plain": [
       "[[-1, -1, -1, -1, -1, -1],\n",
       " [-1, -1, -1, -1, -1, -1],\n",
       " [-1, -1, -1, -1, -1, -1],\n",
       " [-1, -1, -1, -1, -1, -1],\n",
       " [-1, -1, -1, -1, -1, -1],\n",
       " [-1, -1, -1, -1, -1, -1]]"
      ]
     },
     "execution_count": 3,
     "metadata": {},
     "output_type": "execute_result"
    }
   ],
   "source": [
    "G.adjacencyMatrix"
   ]
  },
  {
   "cell_type": "code",
   "execution_count": 4,
   "id": "2d20e2e1",
   "metadata": {},
   "outputs": [
    {
     "data": {
      "text/plain": [
       "['a', 'b', 'c', 'd', 'e', 'f']"
      ]
     },
     "execution_count": 4,
     "metadata": {},
     "output_type": "execute_result"
    }
   ],
   "source": [
    "G.set_vertex(0 , 'a')\n",
    "G.set_vertex(1 , 'b')\n",
    "G.set_vertex(2 , 'c')\n",
    "G.set_vertex(3 , 'd')\n",
    "G.set_vertex(4 , 'e')\n",
    "G.set_vertex(5 , 'f')\n",
    "\n",
    "G.vertexlist"
   ]
  },
  {
   "cell_type": "code",
   "execution_count": 5,
   "id": "6a1c278c",
   "metadata": {},
   "outputs": [
    {
     "data": {
      "text/plain": [
       "{'a': 0, 'b': 1, 'c': 2, 'd': 3, 'e': 4, 'f': 5}"
      ]
     },
     "execution_count": 5,
     "metadata": {},
     "output_type": "execute_result"
    }
   ],
   "source": [
    "G.vertices"
   ]
  },
  {
   "cell_type": "code",
   "execution_count": 6,
   "id": "22267272",
   "metadata": {},
   "outputs": [],
   "source": [
    "G.set_edge('a', 'd', 10)\n",
    "G.set_edge('e', 'f', 20)\n",
    "G.set_edge('c', 'e', 34)\n",
    "G.set_edge('d', 'd', 86)\n",
    "G.set_edge('c', 'f', 65)\n",
    "G.set_edge('a', 'e', 43)"
   ]
  },
  {
   "cell_type": "code",
   "execution_count": 7,
   "id": "ef59b806",
   "metadata": {},
   "outputs": [
    {
     "data": {
      "text/plain": [
       "[[-1, -1, -1, 10, 43, -1],\n",
       " [-1, -1, -1, -1, -1, -1],\n",
       " [-1, -1, -1, -1, 34, 65],\n",
       " [-1, -1, -1, 86, -1, -1],\n",
       " [-1, -1, -1, -1, -1, 20],\n",
       " [-1, -1, -1, -1, -1, -1]]"
      ]
     },
     "execution_count": 7,
     "metadata": {},
     "output_type": "execute_result"
    }
   ],
   "source": [
    "G.adjacencyMatrix"
   ]
  },
  {
   "cell_type": "code",
   "execution_count": 8,
   "id": "35eabf80",
   "metadata": {},
   "outputs": [
    {
     "name": "stdout",
     "output_type": "stream",
     "text": [
      "<bound method Graph.get_edges of <__main__.Graph object at 0x000002126BFD27C0>>\n"
     ]
    }
   ],
   "source": [
    "print(G.get_edges)"
   ]
  },
  {
   "cell_type": "code",
   "execution_count": 9,
   "id": "a087379f",
   "metadata": {},
   "outputs": [
    {
     "data": {
      "text/plain": [
       "<bound method Graph.get_vertex of <__main__.Graph object at 0x000002126BFD27C0>>"
      ]
     },
     "execution_count": 9,
     "metadata": {},
     "output_type": "execute_result"
    }
   ],
   "source": [
    "G.get_vertex"
   ]
  },
  {
   "cell_type": "code",
   "execution_count": 10,
   "id": "d6d5be99",
   "metadata": {},
   "outputs": [
    {
     "data": {
      "text/plain": [
       "<bound method Graph.get_matrix of <__main__.Graph object at 0x000002126BFD27C0>>"
      ]
     },
     "execution_count": 10,
     "metadata": {},
     "output_type": "execute_result"
    }
   ],
   "source": [
    "G.get_matrix"
   ]
  }
 ],
 "metadata": {
  "kernelspec": {
   "display_name": "Python 3",
   "language": "python",
   "name": "python3"
  },
  "language_info": {
   "codemirror_mode": {
    "name": "ipython",
    "version": 3
   },
   "file_extension": ".py",
   "mimetype": "text/x-python",
   "name": "python",
   "nbconvert_exporter": "python",
   "pygments_lexer": "ipython3",
   "version": "3.8.10"
  }
 },
 "nbformat": 4,
 "nbformat_minor": 5
}
