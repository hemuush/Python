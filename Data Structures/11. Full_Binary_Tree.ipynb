{
 "cells": [
  {
   "cell_type": "markdown",
   "id": "ce535eb8",
   "metadata": {},
   "source": [
    "<h1>Full Binary Tree</h1>"
   ]
  },
  {
   "cell_type": "markdown",
   "id": "3cf562b0",
   "metadata": {},
   "source": [
    "<p>Every parent node/internal node has either 2 child or no child</p>"
   ]
  },
  {
   "cell_type": "code",
   "execution_count": 1,
   "id": "115517f6",
   "metadata": {},
   "outputs": [],
   "source": [
    "#Checking if binary is full binary tree\n",
    "\n",
    "#creating a node\n",
    "\n",
    "class Node:\n",
    "    def __init__(self, item):\n",
    "        self.item = item\n",
    "        self.leftchild = None\n",
    "        self.rightchild = None\n",
    "        \n",
    "#checking full binary tree\n",
    "def isFullTree(root):\n",
    "    \n",
    "    #tree empty case\n",
    "    if root is None:\n",
    "        return True\n",
    "    \n",
    "    #Checking Wheather child is present\n",
    "    if root.leftchild is None and root.rightchild is None:\n",
    "        return True\n",
    "    \n",
    "    if root.leftchild is not None and root.rightchild is not None:\n",
    "        return (isFullTree(root.leftchild) and isFullTree(root.rightchild))\n",
    "    \n",
    "    return False"
   ]
  },
  {
   "cell_type": "code",
   "execution_count": 2,
   "id": "b7211f8e",
   "metadata": {},
   "outputs": [],
   "source": [
    "root = Node(1)\n",
    "root.leftchild = Node(2)\n",
    "root.rightchild = Node(3) \n",
    "root.leftchild.leftchild = Node(4)\n",
    "root.leftchild.rightchild = Node(5)\n",
    "root.leftchild.rightchild.leftchild = Node(6)\n",
    "root.leftchild.rightchild.rightchild = Node(7)"
   ]
  },
  {
   "cell_type": "code",
   "execution_count": 3,
   "id": "294247b7",
   "metadata": {},
   "outputs": [
    {
     "name": "stdout",
     "output_type": "stream",
     "text": [
      "The Tree is a Full Binary Tree\n"
     ]
    }
   ],
   "source": [
    "if isFullTree(root):\n",
    "    print(\"The Tree is a Full Binary Tree\")\n",
    "else:\n",
    "    print(\"The Tree is not a Full Binary Tree\")"
   ]
  }
 ],
 "metadata": {
  "kernelspec": {
   "display_name": "Python 3",
   "language": "python",
   "name": "python3"
  },
  "language_info": {
   "codemirror_mode": {
    "name": "ipython",
    "version": 3
   },
   "file_extension": ".py",
   "mimetype": "text/x-python",
   "name": "python",
   "nbconvert_exporter": "python",
   "pygments_lexer": "ipython3",
   "version": "3.8.8"
  }
 },
 "nbformat": 4,
 "nbformat_minor": 5
}
