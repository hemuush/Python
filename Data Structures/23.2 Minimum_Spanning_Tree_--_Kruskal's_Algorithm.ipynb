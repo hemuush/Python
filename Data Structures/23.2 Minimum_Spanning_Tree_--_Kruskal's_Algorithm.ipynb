{
 "cells": [
  {
   "cell_type": "markdown",
   "id": "8a57225a",
   "metadata": {},
   "source": [
    "<h1>Minimum Spanning Tree</h1>\n",
    "<p><b>A Spanning Tree</b> is sub-group of an undirected graph, which includes all the vertices of the graph with a minimum possible number of edges.</p>\n",
    "<p><b>The Minimum Spanning tre --</b> The sum of the weight of the edges is as minimum as possible</p>"
   ]
  },
  {
   "cell_type": "markdown",
   "id": "20485689",
   "metadata": {},
   "source": [
    "<h2>Kruskal's Algorithm</h2>"
   ]
  },
  {
   "cell_type": "code",
   "execution_count": 1,
   "id": "be45e005",
   "metadata": {},
   "outputs": [],
   "source": [
    "from collections import defaultdict"
   ]
  },
  {
   "cell_type": "code",
   "execution_count": 2,
   "id": "f643a0fe",
   "metadata": {},
   "outputs": [],
   "source": [
    "class Graph:\n",
    "    def __init__(self, vertices):\n",
    "        self.v = vertices\n",
    "        self.graph = []\n",
    "    \n",
    "    def add_edge(self, u, v, w):\n",
    "        self.graph.append([u,v,w])\n",
    "        \n",
    "    def find(self, parent, i):\n",
    "        if parent[i] == i:\n",
    "            return i\n",
    "        return self.find(parent, parent[i])\n",
    "\n",
    "    def union(self, parent, rank, x, y):\n",
    "        xroot = self.find(parent, x)\n",
    "        yroot = self.find(parent, y)\n",
    "        if rank[xroot] < rank[yroot]:\n",
    "            parent[xroot] = yroot\n",
    "        elif rank[xroot] > rank[yroot]:\n",
    "            parent[yroot] = xroot\n",
    "        else:\n",
    "            parent[yroot] = xroot\n",
    "            rank[xroot] += 1\n",
    "            \n",
    "    def kruskalMST(self):\n",
    "        result = []\n",
    "        i = 0 #used for sorted edges\n",
    "        e = 0 #use for result\n",
    "        \n",
    "        self.graph = sorted(self.graph, key= lambda item:item[2])\n",
    "        parent = []\n",
    "        rank = []\n",
    "        \n",
    "        for node in range(self.v):\n",
    "            parent.append(node)\n",
    "            rank.append(0)\n",
    "            \n",
    "        while e < self.v -1:\n",
    "            u,v,w = self.graph[i]\n",
    "            i = i+1\n",
    "            x = self.find(parent, u)\n",
    "            y = self.find(parent, v)\n",
    "            \n",
    "            if x != y:\n",
    "                e = e+1\n",
    "                result.append([u,v,w])\n",
    "                self.union(parent, rank, x, y)\n",
    "        \n",
    "        mincost = 0\n",
    "        print(\"Edges in the MST\")\n",
    "        for u,v,weight in result:\n",
    "            mincost += weight\n",
    "            print(\"%d -- %d == %d\" % (u,v,weight))\n",
    "        print(\"Minimum Spanning Tree : \", mincost)"
   ]
  },
  {
   "cell_type": "code",
   "execution_count": 3,
   "id": "e2f34a8a",
   "metadata": {},
   "outputs": [
    {
     "name": "stdout",
     "output_type": "stream",
     "text": [
      "Edges in the MST\n",
      "2 -- 3 == 4\n",
      "0 -- 3 == 5\n",
      "0 -- 1 == 10\n",
      "Minimum Spanning Tree :  19\n"
     ]
    }
   ],
   "source": [
    "g = Graph(4)\n",
    "g.add_edge(0, 1, 10)\n",
    "g.add_edge(0, 2, 6)\n",
    "g.add_edge(0, 3, 5)\n",
    "g.add_edge(1, 3, 15)\n",
    "g.add_edge(2, 3, 4)\n",
    "\n",
    "g.kruskalMST()"
   ]
  }
 ],
 "metadata": {
  "kernelspec": {
   "display_name": "Python 3",
   "language": "python",
   "name": "python3"
  },
  "language_info": {
   "codemirror_mode": {
    "name": "ipython",
    "version": 3
   },
   "file_extension": ".py",
   "mimetype": "text/x-python",
   "name": "python",
   "nbconvert_exporter": "python",
   "pygments_lexer": "ipython3",
   "version": "3.8.10"
  }
 },
 "nbformat": 4,
 "nbformat_minor": 5
}
