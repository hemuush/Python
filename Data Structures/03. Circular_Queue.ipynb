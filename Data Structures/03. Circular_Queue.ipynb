{
 "cells": [
  {
   "cell_type": "code",
   "execution_count": 1,
   "id": "f7367029",
   "metadata": {},
   "outputs": [],
   "source": [
    "class Circular_Queue():\n",
    "    def __init__(self, k):\n",
    "        self.k = k\n",
    "        self.queue = [None] * k\n",
    "        self.head = self.tail = -1\n",
    "        \n",
    "    #Insertion\n",
    "    def enqueue(self, Item):\n",
    "        if ((self.tail + 1) % self.k == self.head):\n",
    "            print('Queue is Full')\n",
    "        \n",
    "        elif (self.head == -1):\n",
    "            self.head = 0\n",
    "            self.tail = 0\n",
    "            self.queue[self.tail] = Item\n",
    "            \n",
    "        else:\n",
    "            self.tail = (self.tail + 1) % self.k\n",
    "            self.queue[self.tail] = Item\n",
    "            \n",
    "    #Deletion\n",
    "    def dequeue(self):\n",
    "        if (self.head == -1):\n",
    "            print(\"The Circular Queue is Empty\")\n",
    "        \n",
    "        elif(self.head == self.tail):\n",
    "            temp = self.queue[self.head]\n",
    "            self.head = -1\n",
    "            self.tail = -1\n",
    "            return temp\n",
    "        \n",
    "        else:\n",
    "            temp = self.queue[self.head]\n",
    "            self.head = (self.head + 1) % self.k\n",
    "            return temp\n",
    "    \n",
    "    #Display Queue\n",
    "    def DisplayCQ(self):\n",
    "        if (self.head == -1):\n",
    "            print(\"NO ELEMENT IN CIRCULAR QUEUE\")\n",
    "        \n",
    "        elif (self.tail >= self.head):\n",
    "            for i in range(self.head, self.tail + 1):\n",
    "                print(self.queue[i], end=\"\")\n",
    "            print()\n",
    "        \n",
    "        else:\n",
    "            for i in range(self.head,self.k):\n",
    "                print(self.queue[i], end = \"\")\n",
    "            for i in range(0, self.tail+1):\n",
    "                print(self.queue[i], end= \"\")\n",
    "            print()"
   ]
  },
  {
   "cell_type": "code",
   "execution_count": 2,
   "id": "a79cd8b7",
   "metadata": {},
   "outputs": [],
   "source": [
    "cq = Circular_Queue(5)"
   ]
  },
  {
   "cell_type": "code",
   "execution_count": 3,
   "id": "8731f138",
   "metadata": {},
   "outputs": [],
   "source": [
    "cq.enqueue(1)\n",
    "cq.enqueue(2)\n",
    "cq.enqueue(3)\n",
    "cq.enqueue(4)\n",
    "cq.enqueue(5)"
   ]
  },
  {
   "cell_type": "code",
   "execution_count": 4,
   "id": "7208af62",
   "metadata": {},
   "outputs": [
    {
     "name": "stdout",
     "output_type": "stream",
     "text": [
      "12345\n"
     ]
    }
   ],
   "source": [
    "cq.DisplayCQ()"
   ]
  },
  {
   "cell_type": "code",
   "execution_count": 5,
   "id": "b6550f4f",
   "metadata": {},
   "outputs": [
    {
     "data": {
      "text/plain": [
       "1"
      ]
     },
     "execution_count": 5,
     "metadata": {},
     "output_type": "execute_result"
    }
   ],
   "source": [
    "cq.dequeue()"
   ]
  },
  {
   "cell_type": "code",
   "execution_count": 6,
   "id": "727f35db",
   "metadata": {},
   "outputs": [
    {
     "name": "stdout",
     "output_type": "stream",
     "text": [
      "2345\n"
     ]
    }
   ],
   "source": [
    "cq.DisplayCQ()"
   ]
  },
  {
   "cell_type": "code",
   "execution_count": 7,
   "id": "65d7fd8a",
   "metadata": {},
   "outputs": [],
   "source": [
    "cq.enqueue(8)"
   ]
  },
  {
   "cell_type": "code",
   "execution_count": 8,
   "id": "6daec334",
   "metadata": {},
   "outputs": [
    {
     "name": "stdout",
     "output_type": "stream",
     "text": [
      "23458\n"
     ]
    }
   ],
   "source": [
    "cq.DisplayCQ()"
   ]
  },
  {
   "cell_type": "code",
   "execution_count": 9,
   "id": "468d9a01",
   "metadata": {},
   "outputs": [
    {
     "data": {
      "text/plain": [
       "2"
      ]
     },
     "execution_count": 9,
     "metadata": {},
     "output_type": "execute_result"
    }
   ],
   "source": [
    "cq.dequeue()"
   ]
  },
  {
   "cell_type": "code",
   "execution_count": 10,
   "id": "0c4dd5e0",
   "metadata": {},
   "outputs": [
    {
     "name": "stdout",
     "output_type": "stream",
     "text": [
      "3458\n"
     ]
    }
   ],
   "source": [
    "cq.DisplayCQ()"
   ]
  }
 ],
 "metadata": {
  "kernelspec": {
   "display_name": "Python 3",
   "language": "python",
   "name": "python3"
  },
  "language_info": {
   "codemirror_mode": {
    "name": "ipython",
    "version": 3
   },
   "file_extension": ".py",
   "mimetype": "text/x-python",
   "name": "python",
   "nbconvert_exporter": "python",
   "pygments_lexer": "ipython3",
   "version": "3.8.8"
  }
 },
 "nbformat": 4,
 "nbformat_minor": 5
}
