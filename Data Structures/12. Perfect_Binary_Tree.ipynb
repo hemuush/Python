{
 "cells": [
  {
   "cell_type": "markdown",
   "id": "82d65523",
   "metadata": {},
   "source": [
    "<h1>Perfect Binary Tree</h1>"
   ]
  },
  {
   "cell_type": "markdown",
   "id": "8b45958c",
   "metadata": {},
   "source": [
    "<p>Every node has exactly two children and all leaf node nodes are at the same level</p>"
   ]
  },
  {
   "cell_type": "code",
   "execution_count": 1,
   "id": "f6883746",
   "metadata": {},
   "outputs": [],
   "source": [
    "#checking if a binary tree is a perfect binary tree\n",
    "class Node:\n",
    "    def __init__(self, k):\n",
    "        self.key = k\n",
    "        self.left = None\n",
    "        self.right = None\n",
    "        \n",
    "#calculate the depth\n",
    "def CalculateDepth(node):\n",
    "    d = 0\n",
    "    while (node is not None):\n",
    "        d += 1\n",
    "        node = node.left\n",
    "    return d\n",
    "\n",
    "#check if the tree is perfect binary tree\n",
    "def is_perfect(root, d, level = 0):\n",
    "    \n",
    "    #check if tree is empty\n",
    "    if root is None:\n",
    "        return True\n",
    "    \n",
    "    #check the presence of tree\n",
    "    if (root.left is None and root.right is None):\n",
    "        return (d == level + 1)\n",
    "    \n",
    "    if (root.left is None or root.right is None):\n",
    "        return False\n",
    "    \n",
    "    return (is_perfect(root.left, d, level + 1) and is_perfect(root.right, d, level + 1))"
   ]
  },
  {
   "cell_type": "code",
   "execution_count": 2,
   "id": "55c80d67",
   "metadata": {},
   "outputs": [],
   "source": [
    "root = None\n",
    "root = Node(1)\n",
    "root.left = Node(2)\n",
    "root.right = Node(3)\n",
    "root.left.left = Node(4)\n",
    "root.left.right = Node(5)\n",
    "root.right.left = Node(6)\n",
    "root.right.right = Node(7)"
   ]
  },
  {
   "cell_type": "code",
   "execution_count": 3,
   "id": "13179a4f",
   "metadata": {},
   "outputs": [
    {
     "name": "stdout",
     "output_type": "stream",
     "text": [
      "The Tree is Perfect Binary Tree\n"
     ]
    }
   ],
   "source": [
    "if is_perfect(root, CalculateDepth(root)) :\n",
    "    print(\"The Tree is Perfect Binary Tree\")\n",
    "else:\n",
    "    print(\"The Tree is not Perfect Binary Tree\")"
   ]
  }
 ],
 "metadata": {
  "kernelspec": {
   "display_name": "Python 3",
   "language": "python",
   "name": "python3"
  },
  "language_info": {
   "codemirror_mode": {
    "name": "ipython",
    "version": 3
   },
   "file_extension": ".py",
   "mimetype": "text/x-python",
   "name": "python",
   "nbconvert_exporter": "python",
   "pygments_lexer": "ipython3",
   "version": "3.8.8"
  }
 },
 "nbformat": 4,
 "nbformat_minor": 5
}
