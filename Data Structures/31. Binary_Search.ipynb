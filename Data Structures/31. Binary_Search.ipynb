{
 "cells": [
  {
   "cell_type": "markdown",
   "id": "49fc2ede",
   "metadata": {},
   "source": [
    "<h1>Binary Search</h1>"
   ]
  },
  {
   "cell_type": "markdown",
   "id": "e3b2a14f",
   "metadata": {},
   "source": [
    "<h4>Recursive Implementation</h4>"
   ]
  },
  {
   "cell_type": "code",
   "execution_count": 1,
   "id": "44c21870",
   "metadata": {},
   "outputs": [
    {
     "name": "stdout",
     "output_type": "stream",
     "text": [
      "Element is present at index 1\n"
     ]
    }
   ],
   "source": [
    "\n",
    "def binarySearch(array, x, low, high):\n",
    "\n",
    "    if high >= low:\n",
    "\n",
    "        mid = low + (high - low)//2\n",
    "\n",
    "        # If found at mid, then return it\n",
    "        if array[mid] == x:\n",
    "            return mid\n",
    "\n",
    "        # Search the left half\n",
    "        elif array[mid] > x:\n",
    "            return binarySearch(array, x, low, mid-1)\n",
    "\n",
    "        # Search the right half\n",
    "        else:\n",
    "            return binarySearch(array, x, mid + 1, high)\n",
    "\n",
    "    else:\n",
    "        return -1\n",
    "\n",
    "\n",
    "array = [3, 4, 5, 6, 7, 8, 9]\n",
    "x = 4\n",
    "\n",
    "result = binarySearch(array, x, 0, len(array)-1)\n",
    "\n",
    "if result != -1:\n",
    "    print(\"Element is present at index \" + str(result))\n",
    "else:\n",
    "    print(\"Not found\")"
   ]
  },
  {
   "cell_type": "markdown",
   "id": "4ad1abdb",
   "metadata": {},
   "source": [
    "<h4>Interative Implementation</h4>"
   ]
  },
  {
   "cell_type": "code",
   "execution_count": 2,
   "id": "37fe6722",
   "metadata": {},
   "outputs": [
    {
     "name": "stdout",
     "output_type": "stream",
     "text": [
      "Element found at Index : 1\n"
     ]
    }
   ],
   "source": [
    "def BS(arr,l ,r,x):\n",
    "    while l <= r:\n",
    "        mid = l + (r - l) //2\n",
    "        \n",
    "        if arr[mid] == x:\n",
    "            return mid\n",
    "        \n",
    "        elif arr[mid] >= x:\n",
    "            r = mid - 1\n",
    "            \n",
    "        else:\n",
    "            l = mid + 1\n",
    "    return -1\n",
    "\n",
    "array = [3, 4, 5, 6, 7, 8, 9]\n",
    "x = 4\n",
    "\n",
    "result =  BS(array,0, len(array)-1,x)\n",
    "\n",
    "if result == -1:\n",
    "    print(\"Element not found\")\n",
    "else:\n",
    "    print(\"Element found at Index :\",result)"
   ]
  }
 ],
 "metadata": {
  "kernelspec": {
   "display_name": "Python 3",
   "language": "python",
   "name": "python3"
  },
  "language_info": {
   "codemirror_mode": {
    "name": "ipython",
    "version": 3
   },
   "file_extension": ".py",
   "mimetype": "text/x-python",
   "name": "python",
   "nbconvert_exporter": "python",
   "pygments_lexer": "ipython3",
   "version": "3.8.10"
  }
 },
 "nbformat": 4,
 "nbformat_minor": 5
}
