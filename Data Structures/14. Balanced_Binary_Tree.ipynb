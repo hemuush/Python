{
 "cells": [
  {
   "cell_type": "markdown",
   "id": "34335790",
   "metadata": {},
   "source": [
    "<h1>Balanced Binary Tree</h1>"
   ]
  },
  {
   "cell_type": "markdown",
   "id": "9edac46d",
   "metadata": {},
   "source": [
    "<p>Height of the left and right subtree of any node differ by not more than 1</p>"
   ]
  },
  {
   "cell_type": "code",
   "execution_count": 1,
   "id": "7ea528dd",
   "metadata": {},
   "outputs": [],
   "source": [
    "class CreateNode:\n",
    "    def __init__(self, item):\n",
    "        self.item = item\n",
    "        self.left = None\n",
    "        self.right = None\n",
    "        \n",
    "#calculate Height\n",
    "class CalculateHeight:\n",
    "    def __init__(self):\n",
    "        self.Height = 0\n",
    "        \n",
    "#Check Height Balance\n",
    "def is_height_balanced(root, Height):\n",
    "    LeftHeight = CalculateHeight()\n",
    "    RightHeight = CalculateHeight()\n",
    "    \n",
    "    if root is None:\n",
    "        return True\n",
    "    \n",
    "    l = is_height_balanced(root.left, LeftHeight)\n",
    "    r = is_height_balanced(root.right, RightHeight)\n",
    "    \n",
    "    Height.Height = max(LeftHeight.Height, RightHeight.Height) + 1\n",
    "    \n",
    "    if abs(LeftHeight.Height - RightHeight.Height) <= 1:\n",
    "        return l and r\n",
    "    return False"
   ]
  },
  {
   "cell_type": "code",
   "execution_count": 2,
   "id": "f248aa8d",
   "metadata": {},
   "outputs": [],
   "source": [
    "Height = CalculateHeight()\n",
    "root = CreateNode(1)\n",
    "root.left = CreateNode(2)\n",
    "root.right = CreateNode(3)\n",
    "root.left.left = CreateNode(4)\n",
    "root.left.right = CreateNode(5)"
   ]
  },
  {
   "cell_type": "code",
   "execution_count": 3,
   "id": "44d69127",
   "metadata": {},
   "outputs": [
    {
     "name": "stdout",
     "output_type": "stream",
     "text": [
      "The Tree is Balanced\n"
     ]
    }
   ],
   "source": [
    "if is_height_balanced(root, Height):\n",
    "    print(\"The Tree is Balanced\")\n",
    "else:\n",
    "    print(\"The Tree is not Balanced\")"
   ]
  }
 ],
 "metadata": {
  "kernelspec": {
   "display_name": "Python 3",
   "language": "python",
   "name": "python3"
  },
  "language_info": {
   "codemirror_mode": {
    "name": "ipython",
    "version": 3
   },
   "file_extension": ".py",
   "mimetype": "text/x-python",
   "name": "python",
   "nbconvert_exporter": "python",
   "pygments_lexer": "ipython3",
   "version": "3.8.8"
  }
 },
 "nbformat": 4,
 "nbformat_minor": 5
}
