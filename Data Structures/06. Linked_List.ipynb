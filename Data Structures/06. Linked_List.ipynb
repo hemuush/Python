{
 "cells": [
  {
   "cell_type": "code",
   "execution_count": 1,
   "id": "d943030c",
   "metadata": {},
   "outputs": [
    {
     "name": "stdout",
     "output_type": "stream",
     "text": [
      "123"
     ]
    }
   ],
   "source": [
    "class Node:\n",
    "    #creating a node\n",
    "    def __init__(self, item):\n",
    "        self.item = item\n",
    "        self.next = None\n",
    "\n",
    "class LinkedList:\n",
    "    def __init__(self):\n",
    "        self.head = None\n",
    "    \n",
    "if __name__ == '__main__':\n",
    "    linkedlist = LinkedList()\n",
    "    linkedlist.head = Node(1)\n",
    "    second = Node(2)\n",
    "    third = Node(3)\n",
    "    \n",
    "    linkedlist.head.next = second\n",
    "    second.next = third\n",
    "    \n",
    "    while linkedlist.head != None:\n",
    "        print(linkedlist.head.item, end= \"\")\n",
    "        linkedlist.head = linkedlist.head.next"
   ]
  }
 ],
 "metadata": {
  "kernelspec": {
   "display_name": "Python 3",
   "language": "python",
   "name": "python3"
  },
  "language_info": {
   "codemirror_mode": {
    "name": "ipython",
    "version": 3
   },
   "file_extension": ".py",
   "mimetype": "text/x-python",
   "name": "python",
   "nbconvert_exporter": "python",
   "pygments_lexer": "ipython3",
   "version": "3.8.8"
  }
 },
 "nbformat": 4,
 "nbformat_minor": 5
}
