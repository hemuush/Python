{
 "cells": [
  {
   "cell_type": "code",
   "execution_count": 1,
   "id": "ced44b6d",
   "metadata": {},
   "outputs": [],
   "source": [
    "class Queue:\n",
    "    def __init__(self):\n",
    "        self.queue = []\n",
    "        \n",
    "    #Add an Element\n",
    "    def enqueue(self, item):\n",
    "        self.queue.append(item)\n",
    "    \n",
    "    #Remove an Element\n",
    "    def dequeue(self):\n",
    "        if len(self.queue) < 1:\n",
    "            return None\n",
    "        return self.queue.pop(0)\n",
    "    \n",
    "    #Display the Queue\n",
    "    def display(self):\n",
    "        print(self.queue)\n",
    "        \n",
    "    #Size of Queue\n",
    "    def size(self):\n",
    "        return len(self.queue)"
   ]
  },
  {
   "cell_type": "code",
   "execution_count": 2,
   "id": "0de7d376",
   "metadata": {},
   "outputs": [],
   "source": [
    "q = Queue()"
   ]
  },
  {
   "cell_type": "code",
   "execution_count": 3,
   "id": "5ecc19a4",
   "metadata": {},
   "outputs": [],
   "source": [
    "q.enqueue(1)\n",
    "q.enqueue(2)\n",
    "q.enqueue(3)\n",
    "q.enqueue(4)\n",
    "q.enqueue(5)"
   ]
  },
  {
   "cell_type": "code",
   "execution_count": 4,
   "id": "162c04f2",
   "metadata": {},
   "outputs": [
    {
     "name": "stdout",
     "output_type": "stream",
     "text": [
      "[1, 2, 3, 4, 5]\n"
     ]
    }
   ],
   "source": [
    "q.display()"
   ]
  },
  {
   "cell_type": "code",
   "execution_count": 5,
   "id": "febde49d",
   "metadata": {},
   "outputs": [
    {
     "data": {
      "text/plain": [
       "1"
      ]
     },
     "execution_count": 5,
     "metadata": {},
     "output_type": "execute_result"
    }
   ],
   "source": [
    "q.dequeue()"
   ]
  },
  {
   "cell_type": "code",
   "execution_count": 6,
   "id": "b9e1193a",
   "metadata": {},
   "outputs": [
    {
     "name": "stdout",
     "output_type": "stream",
     "text": [
      "[2, 3, 4, 5]\n"
     ]
    }
   ],
   "source": [
    "q.display()"
   ]
  }
 ],
 "metadata": {
  "kernelspec": {
   "display_name": "Python 3",
   "language": "python",
   "name": "python3"
  },
  "language_info": {
   "codemirror_mode": {
    "name": "ipython",
    "version": 3
   },
   "file_extension": ".py",
   "mimetype": "text/x-python",
   "name": "python",
   "nbconvert_exporter": "python",
   "pygments_lexer": "ipython3",
   "version": "3.8.8"
  }
 },
 "nbformat": 4,
 "nbformat_minor": 5
}
