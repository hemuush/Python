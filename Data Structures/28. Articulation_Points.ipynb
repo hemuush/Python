{
 "cells": [
  {
   "cell_type": "markdown",
   "id": "361ca825",
   "metadata": {},
   "source": [
    "<h1>Articlation Points</h1>\n",
    "<p>A vertex in an undirected connected graph is an articulation point if removing the vertex disconnect the graph</p>"
   ]
  },
  {
   "cell_type": "code",
   "execution_count": 1,
   "id": "bd57fe56",
   "metadata": {},
   "outputs": [],
   "source": [
    " from collections import defaultdict"
   ]
  },
  {
   "cell_type": "markdown",
   "id": "01e17136",
   "metadata": {},
   "source": [
    "<h3>The idea is to use DFS.</h3>\n",
    "<p>In DFS(Depth For Search), we follow vertices in tree from called DFS tree</p>"
   ]
  },
  {
   "cell_type": "code",
   "execution_count": 2,
   "id": "8f830b3f",
   "metadata": {},
   "outputs": [],
   "source": [
    "class graph:\n",
    "    def __init__(self,vertices):\n",
    "        self.v = vertices\n",
    "        self.graph = defaultdict(list)\n",
    "        self.time = 0\n",
    "        \n",
    "    def add_edge(self,v,u):\n",
    "        self.graph[u].append(v)\n",
    "        self.graph[v].append(u)\n",
    "        \n",
    "    def ArtculationPoint(self,u,visited,ap,parent,low,disc):\n",
    "        children = 0\n",
    "        visited[u] = True\n",
    "        disc[u] = self.time\n",
    "        low[u] = self.time\n",
    "        self.time += 1\n",
    "        for v in self.graph[u]:\n",
    "            if visited[v] == False:\n",
    "                parent[v] = u\n",
    "                children += 1\n",
    "                self.ArtculationPoint(v,visited,ap,parent,low,disc)\n",
    "                low[u] = min(low[u],low[v])\n",
    "                if parent[u] == -1 and children > 1:\n",
    "                    ap[u] = True\n",
    "                if parent[u] != -1 and low[v] >= disc[u]:\n",
    "                    ap[u] = True\n",
    "            elif v != parent[u]:\n",
    "                low[u] = min(low[u],disc[v])\n",
    "                \n",
    "    def AP(self):\n",
    "        visited = [False] * self.v\n",
    "        disc = [float(\"INF\")] * self.v\n",
    "        low = [float(\"INF\")] * self.v\n",
    "        parent = [-1] * self.v\n",
    "        ap = [False] * self.v\n",
    "        for i in range(self.v):\n",
    "            if visited[i] == False:\n",
    "                self.ArtculationPoint(i,visited,ap,parent,low,disc)\n",
    "        \n",
    "        for index,value in enumerate(ap):\n",
    "            if value == True:\n",
    "                print(index)"
   ]
  },
  {
   "cell_type": "code",
   "execution_count": 3,
   "id": "2a35c194",
   "metadata": {},
   "outputs": [],
   "source": [
    "G = graph(5)"
   ]
  },
  {
   "cell_type": "code",
   "execution_count": 4,
   "id": "e4fb0933",
   "metadata": {},
   "outputs": [],
   "source": [
    "G.add_edge(1,0)\n",
    "G.add_edge(0,2)\n",
    "G.add_edge(2,1)\n",
    "G.add_edge(0,3)\n",
    "G.add_edge(3,4)"
   ]
  },
  {
   "cell_type": "code",
   "execution_count": 5,
   "id": "996ba2a6",
   "metadata": {},
   "outputs": [
    {
     "name": "stdout",
     "output_type": "stream",
     "text": [
      "0\n",
      "3\n"
     ]
    }
   ],
   "source": [
    "G.AP()"
   ]
  },
  {
   "cell_type": "markdown",
   "id": "4b5405a4",
   "metadata": {},
   "source": [
    "<h3>If root has multiple children then root is Articulation Point</h3>"
   ]
  }
 ],
 "metadata": {
  "kernelspec": {
   "display_name": "Python 3",
   "language": "python",
   "name": "python3"
  },
  "language_info": {
   "codemirror_mode": {
    "name": "ipython",
    "version": 3
   },
   "file_extension": ".py",
   "mimetype": "text/x-python",
   "name": "python",
   "nbconvert_exporter": "python",
   "pygments_lexer": "ipython3",
   "version": "3.8.10"
  }
 },
 "nbformat": 4,
 "nbformat_minor": 5
}
