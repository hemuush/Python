{
 "cells": [
  {
   "cell_type": "markdown",
   "id": "876b3609",
   "metadata": {},
   "source": [
    "<h1>Flood Filling Algorithm</h1>"
   ]
  },
  {
   "cell_type": "code",
   "execution_count": 1,
   "id": "660432a8",
   "metadata": {},
   "outputs": [],
   "source": [
    "import numpy as np"
   ]
  },
  {
   "cell_type": "code",
   "execution_count": 2,
   "id": "f7c7c417",
   "metadata": {},
   "outputs": [],
   "source": [
    "ffa = [[1,1,1,1,1],\n",
    "       [0,0,2,0,0],\n",
    "      [1,1,5,1,2],\n",
    "      [2,2,5,3,1,],\n",
    "      [1,5,3,2,1]]"
   ]
  },
  {
   "cell_type": "code",
   "execution_count": 3,
   "id": "fdea4dd3",
   "metadata": {},
   "outputs": [],
   "source": [
    "ffa = np.array(ffa)"
   ]
  },
  {
   "cell_type": "code",
   "execution_count": 4,
   "id": "c4690aff",
   "metadata": {},
   "outputs": [],
   "source": [
    "n = ffa.shape[0]\n",
    "m = ffa.shape[1]"
   ]
  },
  {
   "cell_type": "code",
   "execution_count": 5,
   "id": "25f78026",
   "metadata": {},
   "outputs": [
    {
     "data": {
      "text/plain": [
       "5"
      ]
     },
     "execution_count": 5,
     "metadata": {},
     "output_type": "execute_result"
    }
   ],
   "source": [
    "ffa[2][2]"
   ]
  },
  {
   "cell_type": "markdown",
   "id": "b8f40e4c",
   "metadata": {},
   "source": [
    "<h3>x,y = Position of element</h3>\n",
    "<h3>ffa = Our Matrix</h3>\n",
    "<h3>n.m = size of array </h3>\n",
    "<h3>c = number for flooding</h3>"
   ]
  },
  {
   "cell_type": "code",
   "execution_count": 6,
   "id": "6abc806e",
   "metadata": {},
   "outputs": [],
   "source": [
    "def FloodFilling(x,y,ffa,n,m,c):\n",
    "    if (x >= n or y >= m):\n",
    "        return\n",
    "    if (x < 0 or y < 0):\n",
    "        return\n",
    "    if (ffa[x][y] == c):\n",
    "        return\n",
    "    ffa[x][y] = c\n",
    "    FloodFilling(x-1,y-1,ffa,n,m,c)\n",
    "    FloodFilling(x-1,y,ffa,n,m,c)\n",
    "    FloodFilling(x+1,y+1,ffa,n,m,c)\n",
    "    FloodFilling(x,y+1,ffa,n,m,c)\n",
    "    FloodFilling(x,y+1,ffa,n,m,c)\n",
    "    FloodFilling(x+1,y-1,ffa,n,m,c)\n",
    "    FloodFilling(x+1,y,ffa,n,m,c)\n",
    "    FloodFilling(x+1,y+1,ffa,n,m,c)"
   ]
  },
  {
   "cell_type": "code",
   "execution_count": 9,
   "id": "9e3d298a",
   "metadata": {},
   "outputs": [],
   "source": [
    "FloodFilling(3,4,ffa,n,m,98)"
   ]
  },
  {
   "cell_type": "code",
   "execution_count": 10,
   "id": "d3d16923",
   "metadata": {},
   "outputs": [
    {
     "data": {
      "text/plain": [
       "array([[98, 98, 98, 98, 98],\n",
       "       [98, 98, 98, 98, 98],\n",
       "       [98, 98, 98, 98, 98],\n",
       "       [98, 98, 98, 98, 98],\n",
       "       [98, 98, 98, 98, 98]])"
      ]
     },
     "execution_count": 10,
     "metadata": {},
     "output_type": "execute_result"
    }
   ],
   "source": [
    "ffa"
   ]
  }
 ],
 "metadata": {
  "kernelspec": {
   "display_name": "Python 3",
   "language": "python",
   "name": "python3"
  },
  "language_info": {
   "codemirror_mode": {
    "name": "ipython",
    "version": 3
   },
   "file_extension": ".py",
   "mimetype": "text/x-python",
   "name": "python",
   "nbconvert_exporter": "python",
   "pygments_lexer": "ipython3",
   "version": "3.8.10"
  }
 },
 "nbformat": 4,
 "nbformat_minor": 5
}
