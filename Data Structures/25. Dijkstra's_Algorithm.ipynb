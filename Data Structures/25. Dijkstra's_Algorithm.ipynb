{
 "cells": [
  {
   "cell_type": "code",
   "execution_count": 1,
   "id": "c5326d25",
   "metadata": {},
   "outputs": [],
   "source": [
    "import sys"
   ]
  },
  {
   "cell_type": "code",
   "execution_count": 2,
   "id": "7574513c",
   "metadata": {},
   "outputs": [],
   "source": [
    "class Graph():\n",
    "    def __init__(self,vertices):\n",
    "        self.v = vertices\n",
    "        self.graph = [[0 for col in range(vertices)] for row in range(vertices)]\n",
    "        \n",
    "    def print_solution(self, dist):\n",
    "        print(\"Vertex \\t Distance from Vertex\")\n",
    "        for node in range(self.v):\n",
    "            print(\"node \\t\", dist[node])\n",
    "        \n",
    "    def minDistance(self, dist, sptset):\n",
    "        minu = sys.maxsize\n",
    "        for v in range(self.v):\n",
    "            if dist[v] < minu and sptset[v] == False:\n",
    "                minu = dist[v]\n",
    "                min_index = v\n",
    "        return min_index\n",
    "    \n",
    "    def Dijkstra(self, src):\n",
    "        dist = [sys.maxsize] * self.v\n",
    "        dist[src] = 0\n",
    "        stpset = [False] * self.v\n",
    "        \n",
    "        for count in range(self.v):\n",
    "            u = self.minDistance(dist,stpset)\n",
    "            \n",
    "            stpset[u] = True\n",
    "        \n",
    "            for v in range(self.v):\n",
    "                if self.graph[u][v] > 0 and stpset[v] == False and dist[v] > dist[u] + self.graph[u][v]:\n",
    "                    dist[v] = dist[u] + self.graph[u][v]\n",
    "        self.print_solution(dist)"
   ]
  },
  {
   "cell_type": "code",
   "execution_count": 3,
   "id": "de884ea5",
   "metadata": {},
   "outputs": [],
   "source": [
    "G = Graph(9)"
   ]
  },
  {
   "cell_type": "code",
   "execution_count": 4,
   "id": "20a32696",
   "metadata": {},
   "outputs": [],
   "source": [
    "G.graph = [[0,4,0,0,0,0,0,8,0],\n",
    "          [4,0,8,0,0,0,0,11,0],\n",
    "          [0,8,0,7,0,4,0,0,4],\n",
    "          [0,0,7,0,9,14,0,0,0],\n",
    "          [0,0,0,9,0,10,0,0,0],\n",
    "          [0,0,4,14,10,0,2,0,0],\n",
    "          [0,0,0,0,0,2,0,1,6],\n",
    "          [8,11,0,0,0,0,1,0,7],\n",
    "          [0,0,2,0,0,0,6,7,0],\n",
    "          [0,0,2,0,0,0,6,7,0]]"
   ]
  },
  {
   "cell_type": "code",
   "execution_count": 5,
   "id": "8466c0ed",
   "metadata": {},
   "outputs": [
    {
     "name": "stdout",
     "output_type": "stream",
     "text": [
      "Vertex \t Distance from Vertex\n",
      "node \t 0\n",
      "node \t 4\n",
      "node \t 12\n",
      "node \t 19\n",
      "node \t 21\n",
      "node \t 11\n",
      "node \t 9\n",
      "node \t 8\n",
      "node \t 15\n"
     ]
    }
   ],
   "source": [
    "G.Dijkstra(0)"
   ]
  },
  {
   "cell_type": "code",
   "execution_count": null,
   "id": "605f8f3a",
   "metadata": {},
   "outputs": [],
   "source": []
  }
 ],
 "metadata": {
  "kernelspec": {
   "display_name": "Python 3",
   "language": "python",
   "name": "python3"
  },
  "language_info": {
   "codemirror_mode": {
    "name": "ipython",
    "version": 3
   },
   "file_extension": ".py",
   "mimetype": "text/x-python",
   "name": "python",
   "nbconvert_exporter": "python",
   "pygments_lexer": "ipython3",
   "version": "3.8.10"
  }
 },
 "nbformat": 4,
 "nbformat_minor": 5
}
