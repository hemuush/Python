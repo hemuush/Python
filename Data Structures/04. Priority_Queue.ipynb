{
 "cells": [
  {
   "cell_type": "code",
   "execution_count": 1,
   "id": "793ac897",
   "metadata": {},
   "outputs": [],
   "source": [
    "#It also called as Heapify \n",
    "def Heapify(arr, n , i):\n",
    "    #Find largest\n",
    "    largest = i\n",
    "    l = 2 * i + 1\n",
    "    r = 2 * i + 2\n",
    "    \n",
    "    if l < n and arr[i] < arr[l]:\n",
    "        largest = l\n",
    "    if r < n and arr[largest] < arr[r]:\n",
    "        largest = r\n",
    "        \n",
    "    #swap and continue heapify\n",
    "    if largest != i:\n",
    "        arr[i], arr[largest] = arr[largest] , arr[i]\n",
    "        Heapify(arr, n , largest)\n",
    "\n",
    "#Function to insert an Element\n",
    "def insert(arr , num):\n",
    "    size = len(arr)\n",
    "    if size == 0:\n",
    "        arr.append(num)\n",
    "    else:\n",
    "        arr.append(num)\n",
    "        for i in range((size//2)-1,-1,-1):\n",
    "            Heapify(arr, size, i)\n",
    "\n",
    "#Function to Delete an Element\n",
    "def DeleteNode(arr, num):\n",
    "    size = len(arr)\n",
    "    i = 0\n",
    "    for i in range(0, size):\n",
    "        if num == arr[i]:\n",
    "            break\n",
    "    arr[i] , arr[size - 1] = arr[size - 1] , arr[i]\n",
    "    arr.remove(size - 1)\n",
    "    for i in range((len(arr)//2) - 1 , -1, -1):\n",
    "        Heapify(arr, len(arr), i)"
   ]
  },
  {
   "cell_type": "code",
   "execution_count": 2,
   "id": "47a66c68",
   "metadata": {},
   "outputs": [],
   "source": [
    "arr = []"
   ]
  },
  {
   "cell_type": "code",
   "execution_count": 3,
   "id": "149c7fd7",
   "metadata": {},
   "outputs": [],
   "source": [
    "insert(arr, 3)\n",
    "insert(arr, 5)\n",
    "insert(arr, 9)\n",
    "insert(arr, 8)\n",
    "insert(arr, 1)"
   ]
  },
  {
   "cell_type": "code",
   "execution_count": 4,
   "id": "588bc7dd",
   "metadata": {},
   "outputs": [
    {
     "name": "stdout",
     "output_type": "stream",
     "text": [
      "MAx HEap Array: [9, 8, 5, 3, 1]\n"
     ]
    }
   ],
   "source": [
    "print(\"MAx HEap Array: \" + str(arr))"
   ]
  }
 ],
 "metadata": {
  "kernelspec": {
   "display_name": "Python 3",
   "language": "python",
   "name": "python3"
  },
  "language_info": {
   "codemirror_mode": {
    "name": "ipython",
    "version": 3
   },
   "file_extension": ".py",
   "mimetype": "text/x-python",
   "name": "python",
   "nbconvert_exporter": "python",
   "pygments_lexer": "ipython3",
   "version": "3.8.8"
  }
 },
 "nbformat": 4,
 "nbformat_minor": 5
}
