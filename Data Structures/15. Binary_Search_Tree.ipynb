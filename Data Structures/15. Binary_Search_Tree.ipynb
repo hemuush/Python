{
 "cells": [
  {
   "cell_type": "markdown",
   "id": "0eeb90b5",
   "metadata": {},
   "source": [
    "<h1>Binary Search Tree</h1>"
   ]
  },
  {
   "cell_type": "markdown",
   "id": "0a6e5c48",
   "metadata": {},
   "source": [
    "<p>~All Nodes of Left Subtree are less than Right Subtree</p>\n",
    "<p>~All Nodes of Right Subtree are greater than Left Subtree</p>"
   ]
  },
  {
   "cell_type": "code",
   "execution_count": 1,
   "id": "090360eb",
   "metadata": {},
   "outputs": [],
   "source": [
    "class Node:\n",
    "    def __init__(self, item):\n",
    "        self.item = item\n",
    "        self.left = None\n",
    "        self.right = None"
   ]
  },
  {
   "cell_type": "markdown",
   "id": "eac91240",
   "metadata": {},
   "source": [
    "<p>Inorder successor is use to delete node when a node has two children nodes</p>"
   ]
  },
  {
   "cell_type": "code",
   "execution_count": 2,
   "id": "bc094027",
   "metadata": {},
   "outputs": [],
   "source": [
    "#Inorder Traversal\n",
    "def inOrder(root):\n",
    "    if root is not None:\n",
    "        inOrder(root.left)\n",
    "        \n",
    "        print(str(root.item) + \"->\" , end = \"\")\n",
    "        \n",
    "        inOrder(root.right)"
   ]
  },
  {
   "cell_type": "markdown",
   "id": "ba5cdb55",
   "metadata": {},
   "source": [
    "<p>Insertion of a Node :-</p>"
   ]
  },
  {
   "cell_type": "code",
   "execution_count": 3,
   "id": "e714eed8",
   "metadata": {},
   "outputs": [],
   "source": [
    "#insert a node\n",
    "def Insert(node, item):\n",
    "    if node is None:\n",
    "        return Node(item)\n",
    "    \n",
    "    if item < node.item:\n",
    "        node.left = Insert(node.left, item)\n",
    "    else:\n",
    "        node.right = Insert(node.right, item)\n",
    "        \n",
    "    return node"
   ]
  },
  {
   "cell_type": "code",
   "execution_count": 4,
   "id": "8b13188e",
   "metadata": {},
   "outputs": [],
   "source": [
    "#Find The Inorder Successor\n",
    "def minValueNode(node):\n",
    "    current = node\n",
    "    \n",
    "    #find leftmost leaf\n",
    "    while (current.left is not None):\n",
    "        current = current.left\n",
    "    return current\n"
   ]
  },
  {
   "cell_type": "markdown",
   "id": "5c1fa2c6",
   "metadata": {},
   "source": [
    "<p>Deletion of a Node :-</p>"
   ]
  },
  {
   "cell_type": "code",
   "execution_count": 5,
   "id": "9df3f5ea",
   "metadata": {},
   "outputs": [],
   "source": [
    "def Delete(root, item):\n",
    "    #return if root is empty\n",
    "    if root is None:\n",
    "        return root\n",
    "    \n",
    "    #find node to be delete\n",
    "    if item < root.item:\n",
    "        root.left = Delete(root.left, item)\n",
    "    elif item > root.item:\n",
    "        root.right = Delete(root.right, item)\n",
    "    else:\n",
    "        #if node has only one child\n",
    "        if root.left is None:\n",
    "            temp = root.right\n",
    "            root = None\n",
    "            return temp\n",
    "        elif root.right is None:\n",
    "            temp = root.left\n",
    "            root = None\n",
    "            return temp\n",
    "        \n",
    "        #if the Node has 2 child\n",
    "        #place the Inorder Successor in position of node\n",
    "        temp = minValueNode(root.right)\n",
    "        root.item = temp.key\n",
    "        \n",
    "        #Delete the Inorder Successor\n",
    "        root.right = Delete(root.right, temp.key)\n",
    "    \n",
    "    return root"
   ]
  },
  {
   "cell_type": "code",
   "execution_count": 6,
   "id": "bbd7bd94",
   "metadata": {},
   "outputs": [],
   "source": [
    "root = None\n",
    "root = Insert(root, 8)\n",
    "root = Insert(root, 3)\n",
    "root = Insert(root, 1)\n",
    "root = Insert(root, 6)\n",
    "root = Insert(root, 7)\n",
    "root = Insert(root, 10)\n",
    "root = Insert(root, 14)\n",
    "root = Insert(root, 4)"
   ]
  },
  {
   "cell_type": "markdown",
   "id": "ab9c8511",
   "metadata": {},
   "source": [
    "<p>Inorder Traversal</p>"
   ]
  },
  {
   "cell_type": "code",
   "execution_count": 7,
   "id": "a60deff7",
   "metadata": {},
   "outputs": [
    {
     "name": "stdout",
     "output_type": "stream",
     "text": [
      "1->3->4->6->7->8->10->14->"
     ]
    }
   ],
   "source": [
    "inOrder(root)"
   ]
  },
  {
   "cell_type": "markdown",
   "id": "d66fc2d0",
   "metadata": {},
   "source": [
    "<p>Delete Node</p>"
   ]
  },
  {
   "cell_type": "code",
   "execution_count": 8,
   "id": "040bc727",
   "metadata": {},
   "outputs": [
    {
     "name": "stdout",
     "output_type": "stream",
     "text": [
      "1->3->4->6->7->8->14->"
     ]
    }
   ],
   "source": [
    "root = Delete(root, 10)\n",
    "\n",
    "inOrder(root)"
   ]
  }
 ],
 "metadata": {
  "kernelspec": {
   "display_name": "Python 3",
   "language": "python",
   "name": "python3"
  },
  "language_info": {
   "codemirror_mode": {
    "name": "ipython",
    "version": 3
   },
   "file_extension": ".py",
   "mimetype": "text/x-python",
   "name": "python",
   "nbconvert_exporter": "python",
   "pygments_lexer": "ipython3",
   "version": "3.8.8"
  }
 },
 "nbformat": 4,
 "nbformat_minor": 5
}
