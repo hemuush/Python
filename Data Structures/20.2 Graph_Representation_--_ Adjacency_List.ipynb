{
 "cells": [
  {
   "cell_type": "markdown",
   "id": "1c0a6713",
   "metadata": {},
   "source": [
    "<h1>Graph Representation</h1>\n",
    "<h3>Adjacency List</h3>\n",
    "<p>An Array of list is used. The Size of the array is equal to number of vertices</p>"
   ]
  },
  {
   "cell_type": "code",
   "execution_count": 1,
   "id": "dbb99bb8",
   "metadata": {},
   "outputs": [],
   "source": [
    "class Adjnode:\n",
    "    def __init__(self, data):\n",
    "        self.vertice = data\n",
    "        self.next = None"
   ]
  },
  {
   "cell_type": "code",
   "execution_count": 2,
   "id": "55c1c826",
   "metadata": {},
   "outputs": [],
   "source": [
    "class Graph:\n",
    "    def __init__(self, vertices):\n",
    "        self.v = vertices\n",
    "        self.graph = [None] * self.v\n",
    "        \n",
    "    #function to add an edge in udirected graph\n",
    "    def add_edge(self, src, dest):\n",
    "        node = Adjnode(dest)\n",
    "        node.next = self.graph[src]\n",
    "        self.graph[src] = node\n",
    "        \n",
    "        #Adding source node to destination as it is the undirected graph\n",
    "        node = Adjnode(src)\n",
    "        node.next = self.graph[dest]\n",
    "        self.graph[dest] = node\n",
    "        \n",
    "    #function to print the graph\n",
    "    def print_graph(self):\n",
    "        for i in range(self.v):\n",
    "            print(\"Adjacency List of vertex {} \\n head\".format (i), end= \"\")\n",
    "            temp = self.graph[i]\n",
    "            while temp:\n",
    "                print(\"-> {}\".format(temp.vertice) , end= \"\")\n",
    "                temp = temp.next\n",
    "            print(\"\\n\")"
   ]
  },
  {
   "cell_type": "code",
   "execution_count": 3,
   "id": "1511122f",
   "metadata": {},
   "outputs": [],
   "source": [
    "if __name__ == \"__main__\":\n",
    "    v = 5\n",
    "    G = Graph(5)\n",
    "    G.add_edge(0,1)\n",
    "    G.add_edge(0,4)\n",
    "    G.add_edge(1,2)\n",
    "    G.add_edge(1,3)\n",
    "    G.add_edge(1,4)\n",
    "    G.add_edge(2,3)\n",
    "    G.add_edge(3,4)"
   ]
  },
  {
   "cell_type": "code",
   "execution_count": 4,
   "id": "963393f5",
   "metadata": {},
   "outputs": [
    {
     "name": "stdout",
     "output_type": "stream",
     "text": [
      "Adjacency List of vertex 0 \n",
      " head-> 4-> 1\n",
      "\n",
      "Adjacency List of vertex 1 \n",
      " head-> 4-> 3-> 2-> 0\n",
      "\n",
      "Adjacency List of vertex 2 \n",
      " head-> 3-> 1\n",
      "\n",
      "Adjacency List of vertex 3 \n",
      " head-> 4-> 2-> 1\n",
      "\n",
      "Adjacency List of vertex 4 \n",
      " head-> 3-> 1-> 0\n",
      "\n"
     ]
    }
   ],
   "source": [
    "G.print_graph()"
   ]
  }
 ],
 "metadata": {
  "kernelspec": {
   "display_name": "Python 3",
   "language": "python",
   "name": "python3"
  },
  "language_info": {
   "codemirror_mode": {
    "name": "ipython",
    "version": 3
   },
   "file_extension": ".py",
   "mimetype": "text/x-python",
   "name": "python",
   "nbconvert_exporter": "python",
   "pygments_lexer": "ipython3",
   "version": "3.8.10"
  }
 },
 "nbformat": 4,
 "nbformat_minor": 5
}
