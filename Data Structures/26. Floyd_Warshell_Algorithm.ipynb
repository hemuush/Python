{
 "cells": [
  {
   "cell_type": "code",
   "execution_count": 1,
   "id": "c6b68944",
   "metadata": {},
   "outputs": [],
   "source": [
    "#vertices\n",
    "nV = 4\n",
    "\n",
    "INF = 99999"
   ]
  },
  {
   "cell_type": "code",
   "execution_count": 2,
   "id": "94d0cbaf",
   "metadata": {},
   "outputs": [],
   "source": [
    "def floyd_warshall(G):\n",
    "    distance = list(map(lambda i: list(map(lambda j: j, i)), G))\n",
    "\n",
    "    # Adding vertices individually\n",
    "    for k in range(nV):\n",
    "        for i in range(nV):\n",
    "            for j in range(nV):\n",
    "                distance[i][j] = min(distance[i][j], distance[i][k] + distance[k][j])\n",
    "    print_solution(distance)\n",
    "\n",
    "\n",
    "# Printing the solution\n",
    "def print_solution(distance):\n",
    "    for i in range(nV):\n",
    "        for j in range(nV):\n",
    "            if(distance[i][j] == INF):\n",
    "                print(\"INF\", end=\" \")\n",
    "            else:\n",
    "                print(distance[i][j], end=\"  \")\n",
    "        print(\" \")"
   ]
  },
  {
   "cell_type": "code",
   "execution_count": 3,
   "id": "779d5635",
   "metadata": {},
   "outputs": [
    {
     "name": "stdout",
     "output_type": "stream",
     "text": [
      "0  3  7  5   \n",
      "2  0  6  4   \n",
      "3  1  0  5   \n",
      "5  3  2  0   \n"
     ]
    }
   ],
   "source": [
    "G = [[0, 3, INF, 5],\n",
    "         [2, 0, INF, 4],\n",
    "         [INF, 1, 0, INF],\n",
    "         [INF, INF, 2, 0]]\n",
    "floyd_warshall(G)"
   ]
  }
 ],
 "metadata": {
  "kernelspec": {
   "display_name": "Python 3",
   "language": "python",
   "name": "python3"
  },
  "language_info": {
   "codemirror_mode": {
    "name": "ipython",
    "version": 3
   },
   "file_extension": ".py",
   "mimetype": "text/x-python",
   "name": "python",
   "nbconvert_exporter": "python",
   "pygments_lexer": "ipython3",
   "version": "3.8.10"
  }
 },
 "nbformat": 4,
 "nbformat_minor": 5
}
