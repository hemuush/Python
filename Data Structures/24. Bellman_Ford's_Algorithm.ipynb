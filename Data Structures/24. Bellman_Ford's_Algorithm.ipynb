{
 "cells": [
  {
   "cell_type": "code",
   "execution_count": 1,
   "id": "a621145a",
   "metadata": {},
   "outputs": [],
   "source": [
    "class Graph:\n",
    "    def __init__(self, vertices):\n",
    "        self.v = vertices\n",
    "        self.graph = []\n",
    "    \n",
    "    def addedge(self, u, v, w):\n",
    "        self.graph.append([u,v,w])\n",
    "    \n",
    "    def printArr(self, dist):\n",
    "        print(\"Vertex Distance from Source\")\n",
    "        for i in range(self.v):\n",
    "            print(\"{0}\\t\\t{1}\".format(i, dist[i]))\n",
    "        \n",
    "    def BellmanFord(self,src):\n",
    "        dist = [float(\"Inf\")] * self.v\n",
    "        dist[src] = 0\n",
    "        for _ in range(self.v-1):\n",
    "            for u,v,w in self.graph:\n",
    "                if dist[u] != float(\"Inf\") and dist[u] + w < dist[v]:\n",
    "                    dist[v] = dist[u] + w\n",
    "        \n",
    "        for u,v,w in self.graph:\n",
    "            if dist[u] != float(\"Inf\") and dist[u] + w < dist[v]:\n",
    "                print(\"Graph Contain negative weights\")\n",
    "        self.printArr(dist)"
   ]
  },
  {
   "cell_type": "code",
   "execution_count": 2,
   "id": "1db99b8a",
   "metadata": {},
   "outputs": [],
   "source": [
    "G = Graph(5)\n",
    "G.addedge(0,1,-1)\n",
    "G.addedge(0,2,4)\n",
    "G.addedge(1,2,3)\n",
    "G.addedge(1,3,2)\n",
    "G.addedge(1,4,2)\n",
    "G.addedge(3,2,5)\n",
    "G.addedge(3,1,1)\n",
    "G.addedge(4,3,-3)"
   ]
  },
  {
   "cell_type": "code",
   "execution_count": 3,
   "id": "7f52c69f",
   "metadata": {},
   "outputs": [
    {
     "name": "stdout",
     "output_type": "stream",
     "text": [
      "Vertex Distance from Source\n",
      "0\t\t0\n",
      "1\t\t-1\n",
      "2\t\t2\n",
      "3\t\t-2\n",
      "4\t\t1\n"
     ]
    }
   ],
   "source": [
    "G.BellmanFord(0)"
   ]
  }
 ],
 "metadata": {
  "kernelspec": {
   "display_name": "Python 3",
   "language": "python",
   "name": "python3"
  },
  "language_info": {
   "codemirror_mode": {
    "name": "ipython",
    "version": 3
   },
   "file_extension": ".py",
   "mimetype": "text/x-python",
   "name": "python",
   "nbconvert_exporter": "python",
   "pygments_lexer": "ipython3",
   "version": "3.8.10"
  }
 },
 "nbformat": 4,
 "nbformat_minor": 5
}
