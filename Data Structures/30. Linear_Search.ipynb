{
 "cells": [
  {
   "cell_type": "markdown",
   "id": "83ee2cc4",
   "metadata": {},
   "source": [
    "<h1>Linear Search</h1>\n",
    "\n",
    "<p>It is a sequential searching algorithm where we start from one end and check every element of the list until the desire element is found.</p>"
   ]
  },
  {
   "cell_type": "code",
   "execution_count": 1,
   "id": "7ea6f3df",
   "metadata": {},
   "outputs": [],
   "source": [
    "def LinearSearch(arr,n,x):\n",
    "    for i in range(0,n):\n",
    "        if arr[i] == x:\n",
    "            return i\n",
    "    return -1"
   ]
  },
  {
   "cell_type": "code",
   "execution_count": 2,
   "id": "8a98ddaa",
   "metadata": {},
   "outputs": [
    {
     "name": "stdout",
     "output_type": "stream",
     "text": [
      "Element is present at index : 3\n"
     ]
    }
   ],
   "source": [
    "arr = [2,4,3,10,80,170,110,111,20]\n",
    "x = 10\n",
    "n = len(arr)\n",
    "\n",
    "result = LinearSearch(arr,n,x)\n",
    "\n",
    "if (result == -1):\n",
    "    print(\"Element not Found\")\n",
    "else:\n",
    "    print(\"Element is present at index :\", result)"
   ]
  }
 ],
 "metadata": {
  "kernelspec": {
   "display_name": "Python 3",
   "language": "python",
   "name": "python3"
  },
  "language_info": {
   "codemirror_mode": {
    "name": "ipython",
    "version": 3
   },
   "file_extension": ".py",
   "mimetype": "text/x-python",
   "name": "python",
   "nbconvert_exporter": "python",
   "pygments_lexer": "ipython3",
   "version": "3.8.10"
  }
 },
 "nbformat": 4,
 "nbformat_minor": 5
}
