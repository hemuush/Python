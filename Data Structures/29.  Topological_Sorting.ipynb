{
 "cells": [
  {
   "cell_type": "markdown",
   "id": "d44d4f98",
   "metadata": {},
   "source": [
    "<h1>Topological Sorting</h1>\n",
    "\n",
    "<p>Topological Sorting for Directed Acyclic Graph(DAG) is linear odering of vertices such that for every directed edge \n",
    "u,v vertice u come before v in the ordering.\n",
    "<br>\n",
    "Topology in graph is not possible if the graph is not DAG</p>"
   ]
  },
  {
   "cell_type": "code",
   "execution_count": 1,
   "id": "6fd3a91f",
   "metadata": {},
   "outputs": [],
   "source": [
    "from collections import defaultdict"
   ]
  },
  {
   "cell_type": "code",
   "execution_count": 2,
   "id": "a75d56cf",
   "metadata": {},
   "outputs": [],
   "source": [
    "class Graph:\n",
    "    def __init__(self,vertices):\n",
    "        self.graph = defaultdict(list)\n",
    "        self.v = vertices\n",
    "        \n",
    "    def add_edge(self,u,v):\n",
    "        self.graph[u].append(v)\n",
    "        \n",
    "    def topologicalSort(self, v , visited, stack):\n",
    "        visited[v] = True\n",
    "        for i in self.graph[v]:\n",
    "            if visited[i] == False:\n",
    "                self.topologicalSort(i, visited, stack)\n",
    "        stack.append(v)\n",
    "                \n",
    "    def TS(self):\n",
    "        visited = [False] * self.v\n",
    "        stack = []\n",
    "        for i in range(self.v):\n",
    "            if visited[i] == False:\n",
    "                self.topologicalSort(i,visited,stack)\n",
    "            \n",
    "        print(stack[::-1])"
   ]
  },
  {
   "cell_type": "code",
   "execution_count": 3,
   "id": "6766e85c",
   "metadata": {},
   "outputs": [],
   "source": [
    "g = Graph(6)"
   ]
  },
  {
   "cell_type": "code",
   "execution_count": 4,
   "id": "ee5474e6",
   "metadata": {},
   "outputs": [],
   "source": [
    "g.add_edge(5,2)\n",
    "g.add_edge(5,0)\n",
    "g.add_edge(4,0)\n",
    "g.add_edge(4,1)\n",
    "g.add_edge(2,3)\n",
    "g.add_edge(3,1)"
   ]
  },
  {
   "cell_type": "code",
   "execution_count": 5,
   "id": "e229399c",
   "metadata": {},
   "outputs": [
    {
     "name": "stdout",
     "output_type": "stream",
     "text": [
      "[5, 4, 2, 3, 1, 0]\n"
     ]
    }
   ],
   "source": [
    "g.TS()"
   ]
  }
 ],
 "metadata": {
  "kernelspec": {
   "display_name": "Python 3",
   "language": "python",
   "name": "python3"
  },
  "language_info": {
   "codemirror_mode": {
    "name": "ipython",
    "version": 3
   },
   "file_extension": ".py",
   "mimetype": "text/x-python",
   "name": "python",
   "nbconvert_exporter": "python",
   "pygments_lexer": "ipython3",
   "version": "3.8.10"
  }
 },
 "nbformat": 4,
 "nbformat_minor": 5
}
