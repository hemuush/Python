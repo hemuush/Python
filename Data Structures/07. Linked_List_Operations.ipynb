{
 "cells": [
  {
   "cell_type": "code",
   "execution_count": 1,
   "id": "e20644c3",
   "metadata": {},
   "outputs": [],
   "source": [
    "#Create a Node\n",
    "class Node:\n",
    "    def __init__(self, item):\n",
    "        self.item = item\n",
    "        self.next = None\n",
    "    \n",
    "class LinkedList:\n",
    "    def __init__(self):\n",
    "        self.head = None\n",
    "        \n",
    "    #Insert at Beginning\n",
    "    def InsertAtBeginning(self, data):\n",
    "        new_node = Node(data)\n",
    "        new_node.next = self.head\n",
    "        self.head = new_node\n",
    "        \n",
    "    #Insert After a Node\n",
    "    def InsertAfter(self, node, data):\n",
    "        if node is None:\n",
    "            print(\"The Given previous node must in Linked List\")\n",
    "            return\n",
    "        new_node = Node(data)\n",
    "        new_node.next = node.next\n",
    "        node_next = new_node\n",
    "        \n",
    "    #insert at the end\n",
    "    def InsertAtEnd(self, data):\n",
    "        new_node = Node(data)\n",
    "        \n",
    "        if self.head is None:\n",
    "            self.head = new_node\n",
    "            return\n",
    "        \n",
    "        last = self.head\n",
    "        while(last.next):\n",
    "            last = last.next\n",
    "        \n",
    "        last.next = new_node\n",
    "        \n",
    "    #Deleting a Node\n",
    "    def DeleteNode(self, position):\n",
    "        if self.head == None:\n",
    "            return\n",
    "        \n",
    "        temp_node = self.head\n",
    "        if position == 0:\n",
    "            self.head = temp_node.next\n",
    "            temp_node = None\n",
    "            return\n",
    "        #find the key to be deleted\n",
    "        for i in range(position-1):\n",
    "            temp_node = temp_node.next\n",
    "            if temp_node is None:\n",
    "                break\n",
    "                \n",
    "        #if key is not present\n",
    "        if temp_node is None:\n",
    "            return\n",
    "        if temp_node.next is None:\n",
    "            return\n",
    "        \n",
    "        next = temp_node.next.next\n",
    "        temp_node.next = None\n",
    "        temp_node.next = next\n",
    "        \n",
    "        \n",
    "    def PrintList(self):\n",
    "        temp_node = self.head\n",
    "        while(temp_node):\n",
    "            print(str(temp_node.item) + \" \" , end= \"\" )\n",
    "            temp_node = temp_node.next"
   ]
  },
  {
   "cell_type": "code",
   "execution_count": 2,
   "id": "fbce5ab1",
   "metadata": {},
   "outputs": [],
   "source": [
    "llist = LinkedList()"
   ]
  },
  {
   "cell_type": "code",
   "execution_count": 3,
   "id": "77e6e09d",
   "metadata": {},
   "outputs": [],
   "source": [
    "llist.InsertAtEnd(1)\n",
    "llist.InsertAtBeginning(2)\n",
    "llist.InsertAtBeginning(3)\n",
    "llist.InsertAtEnd(4)\n",
    "llist.InsertAfter(llist.head.next,5)"
   ]
  },
  {
   "cell_type": "code",
   "execution_count": 4,
   "id": "15c797fc",
   "metadata": {},
   "outputs": [
    {
     "name": "stdout",
     "output_type": "stream",
     "text": [
      "Linked List\n",
      "3 2 1 4 "
     ]
    }
   ],
   "source": [
    "print(\"Linked List\")\n",
    "llist.PrintList()"
   ]
  },
  {
   "cell_type": "code",
   "execution_count": 5,
   "id": "9fdfbf21",
   "metadata": {},
   "outputs": [
    {
     "name": "stdout",
     "output_type": "stream",
     "text": [
      "After Deleting an Element\n",
      "3 2 4 "
     ]
    }
   ],
   "source": [
    "print(\"After Deleting an Element\")\n",
    "llist.DeleteNode(2)\n",
    "llist.PrintList()"
   ]
  }
 ],
 "metadata": {
  "kernelspec": {
   "display_name": "Python 3",
   "language": "python",
   "name": "python3"
  },
  "language_info": {
   "codemirror_mode": {
    "name": "ipython",
    "version": 3
   },
   "file_extension": ".py",
   "mimetype": "text/x-python",
   "name": "python",
   "nbconvert_exporter": "python",
   "pygments_lexer": "ipython3",
   "version": "3.8.8"
  }
 },
 "nbformat": 4,
 "nbformat_minor": 5
}
