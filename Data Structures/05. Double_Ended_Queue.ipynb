{
 "cells": [
  {
   "cell_type": "code",
   "execution_count": 1,
   "id": "b1e004e2",
   "metadata": {},
   "outputs": [],
   "source": [
    "class Deque:\n",
    "    def __init__(self):\n",
    "        self.elements = []\n",
    "        \n",
    "    def isEmpty(self):\n",
    "        return self.elements == []\n",
    "    \n",
    "    def AddRear(self, item):\n",
    "        self.elements.append(item)\n",
    "        \n",
    "    def AddFront(self, item):\n",
    "        self.elements.insert(0, item)\n",
    "    \n",
    "    def RemoveFront(self):\n",
    "        return self.elements.pop(0)\n",
    "    \n",
    "    def RemoveRear(self):\n",
    "        return self.elements.pop()\n",
    "    \n",
    "    def size(self):\n",
    "        return len(self.elements)"
   ]
  },
  {
   "cell_type": "code",
   "execution_count": 2,
   "id": "5493aec8",
   "metadata": {},
   "outputs": [],
   "source": [
    "d = Deque()"
   ]
  },
  {
   "cell_type": "code",
   "execution_count": 3,
   "id": "f8df13ca",
   "metadata": {},
   "outputs": [
    {
     "name": "stdout",
     "output_type": "stream",
     "text": [
      "True\n"
     ]
    }
   ],
   "source": [
    "print(d.isEmpty())"
   ]
  },
  {
   "cell_type": "code",
   "execution_count": 4,
   "id": "73b7171b",
   "metadata": {},
   "outputs": [],
   "source": [
    "d.AddRear(8)\n",
    "d.AddRear(5)\n",
    "d.AddFront(7)\n",
    "d.AddFront(10)"
   ]
  },
  {
   "cell_type": "code",
   "execution_count": 5,
   "id": "0704ecd4",
   "metadata": {},
   "outputs": [
    {
     "data": {
      "text/plain": [
       "[10, 7, 8, 5]"
      ]
     },
     "execution_count": 5,
     "metadata": {},
     "output_type": "execute_result"
    }
   ],
   "source": [
    "d.elements"
   ]
  },
  {
   "cell_type": "code",
   "execution_count": 6,
   "id": "5717f776",
   "metadata": {},
   "outputs": [
    {
     "data": {
      "text/plain": [
       "10"
      ]
     },
     "execution_count": 6,
     "metadata": {},
     "output_type": "execute_result"
    }
   ],
   "source": [
    "d.RemoveFront()"
   ]
  },
  {
   "cell_type": "code",
   "execution_count": 7,
   "id": "9a4f67c0",
   "metadata": {},
   "outputs": [
    {
     "data": {
      "text/plain": [
       "5"
      ]
     },
     "execution_count": 7,
     "metadata": {},
     "output_type": "execute_result"
    }
   ],
   "source": [
    "d.RemoveRear()"
   ]
  },
  {
   "cell_type": "code",
   "execution_count": 8,
   "id": "f483b99e",
   "metadata": {},
   "outputs": [
    {
     "data": {
      "text/plain": [
       "[7, 8]"
      ]
     },
     "execution_count": 8,
     "metadata": {},
     "output_type": "execute_result"
    }
   ],
   "source": [
    "d.elements"
   ]
  },
  {
   "cell_type": "code",
   "execution_count": 9,
   "id": "18c11ddb",
   "metadata": {},
   "outputs": [],
   "source": [
    "d.AddFront(9)"
   ]
  },
  {
   "cell_type": "code",
   "execution_count": 10,
   "id": "47bf5a2e",
   "metadata": {},
   "outputs": [],
   "source": [
    "d.AddRear(4)"
   ]
  },
  {
   "cell_type": "code",
   "execution_count": 11,
   "id": "b80ea39c",
   "metadata": {},
   "outputs": [
    {
     "data": {
      "text/plain": [
       "[9, 7, 8, 4]"
      ]
     },
     "execution_count": 11,
     "metadata": {},
     "output_type": "execute_result"
    }
   ],
   "source": [
    "d.elements"
   ]
  }
 ],
 "metadata": {
  "kernelspec": {
   "display_name": "Python 3",
   "language": "python",
   "name": "python3"
  },
  "language_info": {
   "codemirror_mode": {
    "name": "ipython",
    "version": 3
   },
   "file_extension": ".py",
   "mimetype": "text/x-python",
   "name": "python",
   "nbconvert_exporter": "python",
   "pygments_lexer": "ipython3",
   "version": "3.8.8"
  }
 },
 "nbformat": 4,
 "nbformat_minor": 5
}
