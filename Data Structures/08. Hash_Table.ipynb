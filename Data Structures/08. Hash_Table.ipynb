{
 "cells": [
  {
   "cell_type": "code",
   "execution_count": 1,
   "id": "34e3bf78",
   "metadata": {},
   "outputs": [],
   "source": [
    "HashTable = [[],] * 10\n",
    "\n",
    "def CheckPrime(n):\n",
    "    if n == 0 or n == 1:\n",
    "        return 0\n",
    "    for i in range(2, n//2):\n",
    "        if n % i == 0:\n",
    "            return 0\n",
    "    return 1\n",
    "\n",
    "def GetPrime(n):\n",
    "    if n % 2 == 0:\n",
    "        n = n + 1\n",
    "    \n",
    "    while not CheckPrime(n):\n",
    "        n = n + 2\n",
    "    return n\n",
    "\n",
    "def HashFunction(key):\n",
    "    capacity = GetPrime(10)\n",
    "    return key % capacity\n",
    "\n",
    "def InsertData(key, data):\n",
    "    index = HashFunction(key)\n",
    "    HashTable[index] = [key,data]\n",
    "    \n",
    "def RemoveData(key):\n",
    "    index = HashFunction(key)\n",
    "    HashTable[index] = 0"
   ]
  },
  {
   "cell_type": "code",
   "execution_count": 2,
   "id": "7cc8ab15",
   "metadata": {},
   "outputs": [],
   "source": [
    "InsertData(123,'Apple')\n",
    "InsertData(423,'Mango')\n",
    "InsertData(213,'Banana')\n",
    "InsertData(645,'Guava')\n",
    "InsertData(567,'Orange')\n",
    "InsertData(983,'Papaya')"
   ]
  },
  {
   "cell_type": "code",
   "execution_count": 3,
   "id": "f00922cb",
   "metadata": {},
   "outputs": [
    {
     "name": "stdout",
     "output_type": "stream",
     "text": [
      "[[], [], [123, 'Apple'], [], [983, 'Papaya'], [423, 'Mango'], [567, 'Orange'], [645, 'Guava'], [], []]\n"
     ]
    }
   ],
   "source": [
    "print(HashTable)"
   ]
  },
  {
   "cell_type": "code",
   "execution_count": 4,
   "id": "f2bd7833",
   "metadata": {},
   "outputs": [],
   "source": [
    "RemoveData(123)"
   ]
  },
  {
   "cell_type": "code",
   "execution_count": 5,
   "id": "2e0ea805",
   "metadata": {},
   "outputs": [
    {
     "name": "stdout",
     "output_type": "stream",
     "text": [
      "[[], [], 0, [], [983, 'Papaya'], [423, 'Mango'], [567, 'Orange'], [645, 'Guava'], [], []]\n"
     ]
    }
   ],
   "source": [
    "print(HashTable)"
   ]
  }
 ],
 "metadata": {
  "kernelspec": {
   "display_name": "Python 3",
   "language": "python",
   "name": "python3"
  },
  "language_info": {
   "codemirror_mode": {
    "name": "ipython",
    "version": 3
   },
   "file_extension": ".py",
   "mimetype": "text/x-python",
   "name": "python",
   "nbconvert_exporter": "python",
   "pygments_lexer": "ipython3",
   "version": "3.8.8"
  }
 },
 "nbformat": 4,
 "nbformat_minor": 5
}
