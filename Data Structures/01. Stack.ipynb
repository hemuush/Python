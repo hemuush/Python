{
 "cells": [
  {
   "cell_type": "code",
   "execution_count": 1,
   "id": "ba4b7bdb",
   "metadata": {},
   "outputs": [],
   "source": [
    "def create_stack():\n",
    "    stack = []\n",
    "    return stack\n",
    "\n",
    "#creating an empty stack\n",
    "def check_empty(stack):\n",
    "    return len(stack) == 0\n",
    "\n",
    "#Adding Items into Stack\n",
    "def push(stack, item):\n",
    "    stack.append(item)\n",
    "    print(\"Pushed Item: \" + item)\n",
    "    \n",
    "#Removing Item from Stack\n",
    "def pop(stack):\n",
    "    if check_empty(stack):\n",
    "        return \"Stack iS Empty\"\n",
    "    return stack.pop()"
   ]
  },
  {
   "cell_type": "code",
   "execution_count": 2,
   "id": "4f87b6f9",
   "metadata": {},
   "outputs": [],
   "source": [
    "st = create_stack()"
   ]
  },
  {
   "cell_type": "code",
   "execution_count": 3,
   "id": "ec9fce9c",
   "metadata": {},
   "outputs": [
    {
     "data": {
      "text/plain": [
       "True"
      ]
     },
     "execution_count": 3,
     "metadata": {},
     "output_type": "execute_result"
    }
   ],
   "source": [
    "check_empty(st)"
   ]
  },
  {
   "cell_type": "code",
   "execution_count": 4,
   "id": "8cfaac26",
   "metadata": {},
   "outputs": [
    {
     "name": "stdout",
     "output_type": "stream",
     "text": [
      "Pushed Item: 1\n",
      "Pushed Item: 2\n",
      "Pushed Item: 3\n",
      "Pushed Item: 4\n",
      "Pushed Item: 5\n"
     ]
    }
   ],
   "source": [
    "push(st,str(1))\n",
    "push(st,str(2))\n",
    "push(st,str(3))\n",
    "push(st,str(4))\n",
    "push(st,str(5))"
   ]
  },
  {
   "cell_type": "code",
   "execution_count": 5,
   "id": "0f38b3b8",
   "metadata": {},
   "outputs": [
    {
     "name": "stdout",
     "output_type": "stream",
     "text": [
      "['1', '2', '3', '4', '5']\n"
     ]
    }
   ],
   "source": [
    "print(st)"
   ]
  },
  {
   "cell_type": "code",
   "execution_count": 6,
   "id": "f766f1f8",
   "metadata": {},
   "outputs": [
    {
     "data": {
      "text/plain": [
       "'5'"
      ]
     },
     "execution_count": 6,
     "metadata": {},
     "output_type": "execute_result"
    }
   ],
   "source": [
    "pop(st)"
   ]
  },
  {
   "cell_type": "code",
   "execution_count": 7,
   "id": "be49a41c",
   "metadata": {},
   "outputs": [
    {
     "name": "stdout",
     "output_type": "stream",
     "text": [
      "['1', '2', '3', '4']\n"
     ]
    }
   ],
   "source": [
    "print(st)"
   ]
  },
  {
   "cell_type": "code",
   "execution_count": 8,
   "id": "3bf18bb1",
   "metadata": {},
   "outputs": [
    {
     "data": {
      "text/plain": [
       "'4'"
      ]
     },
     "execution_count": 8,
     "metadata": {},
     "output_type": "execute_result"
    }
   ],
   "source": [
    "pop(st)"
   ]
  },
  {
   "cell_type": "code",
   "execution_count": 9,
   "id": "04bc47b6",
   "metadata": {},
   "outputs": [
    {
     "name": "stdout",
     "output_type": "stream",
     "text": [
      "Pushed Item: 8\n"
     ]
    }
   ],
   "source": [
    "push(st,str(8))"
   ]
  },
  {
   "cell_type": "code",
   "execution_count": 10,
   "id": "313851c6",
   "metadata": {},
   "outputs": [
    {
     "name": "stdout",
     "output_type": "stream",
     "text": [
      "['1', '2', '3', '8']\n"
     ]
    }
   ],
   "source": [
    "print(st)"
   ]
  },
  {
   "cell_type": "code",
   "execution_count": 11,
   "id": "eb1693c5",
   "metadata": {},
   "outputs": [
    {
     "data": {
      "text/plain": [
       "'8'"
      ]
     },
     "execution_count": 11,
     "metadata": {},
     "output_type": "execute_result"
    }
   ],
   "source": [
    "pop(st)"
   ]
  }
 ],
 "metadata": {
  "kernelspec": {
   "display_name": "Python 3",
   "language": "python",
   "name": "python3"
  },
  "language_info": {
   "codemirror_mode": {
    "name": "ipython",
    "version": 3
   },
   "file_extension": ".py",
   "mimetype": "text/x-python",
   "name": "python",
   "nbconvert_exporter": "python",
   "pygments_lexer": "ipython3",
   "version": "3.8.8"
  }
 },
 "nbformat": 4,
 "nbformat_minor": 5
}
