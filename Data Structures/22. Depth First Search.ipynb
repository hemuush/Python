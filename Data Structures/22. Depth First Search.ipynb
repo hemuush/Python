{
 "cells": [
  {
   "cell_type": "code",
   "execution_count": 1,
   "id": "c132a71c",
   "metadata": {},
   "outputs": [],
   "source": [
    "from collections import defaultdict"
   ]
  },
  {
   "cell_type": "code",
   "execution_count": 2,
   "id": "aeb5a623",
   "metadata": {},
   "outputs": [],
   "source": [
    "class Graph:\n",
    "    def __init__(self):\n",
    "        self.graph = defaultdict(list)\n",
    "        \n",
    "    def add_edge(self, u, v):\n",
    "        self.graph[u].append(v)\n",
    "    \n",
    "    def DFSUtil(self, v, visited):\n",
    "        visited.add(v)\n",
    "        print(v, end= \"\")\n",
    "        for neighbour in self.graph[v]:\n",
    "            if neighbour not in visited:\n",
    "                self.DFSUtil(neighbour, visited)\n",
    "    \n",
    "    def DFS(self, v):\n",
    "        visited = set()\n",
    "        self.DFSUtil(v , visited)"
   ]
  },
  {
   "cell_type": "code",
   "execution_count": 3,
   "id": "75f0c461",
   "metadata": {},
   "outputs": [],
   "source": [
    "G = Graph()\n",
    "G.add_edge(0,1)\n",
    "G.add_edge(0,2)\n",
    "G.add_edge(1,2)\n",
    "G.add_edge(2,0)\n",
    "G.add_edge(2,3)\n",
    "G.add_edge(3,3)"
   ]
  },
  {
   "cell_type": "code",
   "execution_count": 4,
   "id": "88ac1396",
   "metadata": {},
   "outputs": [
    {
     "name": "stdout",
     "output_type": "stream",
     "text": [
      "Following is DFS : \n",
      "2013"
     ]
    }
   ],
   "source": [
    "print(\"Following is DFS : \")\n",
    "G.DFS(2)"
   ]
  }
 ],
 "metadata": {
  "kernelspec": {
   "display_name": "Python 3",
   "language": "python",
   "name": "python3"
  },
  "language_info": {
   "codemirror_mode": {
    "name": "ipython",
    "version": 3
   },
   "file_extension": ".py",
   "mimetype": "text/x-python",
   "name": "python",
   "nbconvert_exporter": "python",
   "pygments_lexer": "ipython3",
   "version": "3.8.10"
  }
 },
 "nbformat": 4,
 "nbformat_minor": 5
}
