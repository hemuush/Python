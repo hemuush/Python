{
 "cells": [
  {
   "cell_type": "code",
   "execution_count": 1,
   "id": "a89ac968",
   "metadata": {},
   "outputs": [],
   "source": [
    "class Node:\n",
    "    def __init__(self,data):\n",
    "        self.data = data\n",
    "        self.next = None"
   ]
  },
  {
   "cell_type": "code",
   "execution_count": 2,
   "id": "5704cc06",
   "metadata": {},
   "outputs": [],
   "source": [
    "class LinkedList:\n",
    "    def __init__(self):\n",
    "        self.head = None\n",
    "        \n",
    "    def insertion(self,new_data):\n",
    "        new_node = Node(new_data)\n",
    "        new_node.next = self.head\n",
    "        self.head = new_node\n",
    "        \n",
    "    def Search(self , node):\n",
    "        temp = self.head\n",
    "        while temp:\n",
    "            if temp.data == node:\n",
    "                return \"Element Present at Lineked List\"\n",
    "            elif temp.data != node:\n",
    "                temp = temp.next\n",
    "            else:\n",
    "                return \"Element is not present at Linked List\""
   ]
  },
  {
   "cell_type": "code",
   "execution_count": 3,
   "id": "7fc1daea",
   "metadata": {},
   "outputs": [],
   "source": [
    "l1 = LinkedList()"
   ]
  },
  {
   "cell_type": "code",
   "execution_count": 4,
   "id": "8c051036",
   "metadata": {},
   "outputs": [],
   "source": [
    "l1.insertion(2)\n",
    "l1.insertion(3)\n",
    "l1.insertion(5)\n",
    "l1.insertion(87)"
   ]
  },
  {
   "cell_type": "code",
   "execution_count": 5,
   "id": "f7181506",
   "metadata": {},
   "outputs": [
    {
     "data": {
      "text/plain": [
       "'Element Present at Lineked List'"
      ]
     },
     "execution_count": 5,
     "metadata": {},
     "output_type": "execute_result"
    }
   ],
   "source": [
    "l1.Search(2)"
   ]
  }
 ],
 "metadata": {
  "kernelspec": {
   "display_name": "Python 3",
   "language": "python",
   "name": "python3"
  },
  "language_info": {
   "codemirror_mode": {
    "name": "ipython",
    "version": 3
   },
   "file_extension": ".py",
   "mimetype": "text/x-python",
   "name": "python",
   "nbconvert_exporter": "python",
   "pygments_lexer": "ipython3",
   "version": "3.8.10"
  }
 },
 "nbformat": 4,
 "nbformat_minor": 5
}
