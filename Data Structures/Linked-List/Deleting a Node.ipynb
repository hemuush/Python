{
 "cells": [
  {
   "cell_type": "code",
   "execution_count": 1,
   "id": "fe7a32cc",
   "metadata": {},
   "outputs": [],
   "source": [
    "class Node:\n",
    "    def __init__(self,data):\n",
    "        self.data = data\n",
    "        self.next = None"
   ]
  },
  {
   "cell_type": "code",
   "execution_count": 2,
   "id": "96f4df00",
   "metadata": {},
   "outputs": [],
   "source": [
    "class LinkedList:\n",
    "    def __init__(self):\n",
    "        self.head = None\n",
    "        \n",
    "    def insertion(self, new_data):\n",
    "        new_node = Node(new_data)\n",
    "        new_node.next = self.head\n",
    "        self.head = new_node\n",
    "        \n",
    "    def deleteNode(self, key):\n",
    "        temp = self.head\n",
    "        if (temp is not None):\n",
    "            if (temp.data == key):\n",
    "                self.head = temp.next\n",
    "                temp = None\n",
    "                return\n",
    "            \n",
    "        while(temp is not None):\n",
    "            if (temp.data == key):\n",
    "                break\n",
    "            prev = temp\n",
    "            temp = temp.next\n",
    "            \n",
    "        if (temp == None):\n",
    "            return\n",
    "        \n",
    "        prev.next = temp.next\n",
    "        temp = None\n",
    "        \n",
    "    def printLinked(self):\n",
    "        temp = self.head\n",
    "        while(temp):\n",
    "            print(temp.data)\n",
    "            temp = temp.next"
   ]
  },
  {
   "cell_type": "code",
   "execution_count": 3,
   "id": "b4a5426b",
   "metadata": {},
   "outputs": [
    {
     "name": "stdout",
     "output_type": "stream",
     "text": [
      "Linked List before Deletion\n",
      "8\n",
      "5\n",
      "3\n",
      "1\n",
      "Linked List after Deletion\n",
      "8\n",
      "5\n",
      "1\n"
     ]
    }
   ],
   "source": [
    "l1 = LinkedList()\n",
    "l1.insertion(1)\n",
    "l1.insertion(3)\n",
    "l1.insertion(5)\n",
    "l1.insertion(8)\n",
    "\n",
    "print(\"Linked List before Deletion\")\n",
    "l1.printLinked()\n",
    "\n",
    "print(\"Linked List after Deletion\")\n",
    "l1.deleteNode(3)\n",
    "l1.printLinked()"
   ]
  }
 ],
 "metadata": {
  "kernelspec": {
   "display_name": "Python 3",
   "language": "python",
   "name": "python3"
  },
  "language_info": {
   "codemirror_mode": {
    "name": "ipython",
    "version": 3
   },
   "file_extension": ".py",
   "mimetype": "text/x-python",
   "name": "python",
   "nbconvert_exporter": "python",
   "pygments_lexer": "ipython3",
   "version": "3.8.10"
  }
 },
 "nbformat": 4,
 "nbformat_minor": 5
}
