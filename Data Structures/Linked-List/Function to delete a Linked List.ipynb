{
 "cells": [
  {
   "cell_type": "code",
   "execution_count": 1,
   "id": "a1a73d1a",
   "metadata": {},
   "outputs": [],
   "source": [
    "class Node:\n",
    "    def __init__(self,data):\n",
    "        self.data = data\n",
    "        self.next = None"
   ]
  },
  {
   "cell_type": "code",
   "execution_count": 2,
   "id": "f11a8ca5",
   "metadata": {},
   "outputs": [],
   "source": [
    "class LinkedList:\n",
    "    def __init__(self):\n",
    "        self.head = None\n",
    "        \n",
    "    def insertion(self, new_data):\n",
    "        new_node = Node(new_data)\n",
    "        new_node.next = self.head\n",
    "        self.head = new_node\n",
    "    \n",
    "    def DeleteLinkedList(self):\n",
    "        current = self.head\n",
    "        \n",
    "        while current:\n",
    "            prev = current.next\n",
    "            del current.data\n",
    "            current = prev\n",
    "        return \"deleted\"\n",
    "            \n",
    "    def PrintLinkedList(self):\n",
    "        temp = self.head\n",
    "        while(temp):\n",
    "            print(temp.data)\n",
    "            temp = temp.next"
   ]
  },
  {
   "cell_type": "code",
   "execution_count": 3,
   "id": "bd5ce020",
   "metadata": {},
   "outputs": [],
   "source": [
    "l1 = LinkedList()"
   ]
  },
  {
   "cell_type": "code",
   "execution_count": 4,
   "id": "d11cb970",
   "metadata": {},
   "outputs": [
    {
     "name": "stdout",
     "output_type": "stream",
     "text": [
      "0\n",
      "1\n",
      "2\n",
      "3\n",
      "Delete Linked List -: deleted\n"
     ]
    }
   ],
   "source": [
    "l1.insertion(3)\n",
    "l1.insertion(2)\n",
    "l1.insertion(1)\n",
    "l1.insertion(0)\n",
    "\n",
    "l1.PrintLinkedList()\n",
    "\n",
    "print(\"Delete Linked List -:\" , l1.DeleteLinkedList())"
   ]
  }
 ],
 "metadata": {
  "kernelspec": {
   "display_name": "Python 3",
   "language": "python",
   "name": "python3"
  },
  "language_info": {
   "codemirror_mode": {
    "name": "ipython",
    "version": 3
   },
   "file_extension": ".py",
   "mimetype": "text/x-python",
   "name": "python",
   "nbconvert_exporter": "python",
   "pygments_lexer": "ipython3",
   "version": "3.8.10"
  }
 },
 "nbformat": 4,
 "nbformat_minor": 5
}
