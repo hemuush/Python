{
 "cells": [
  {
   "cell_type": "code",
   "execution_count": 1,
   "id": "4dc1c43e",
   "metadata": {},
   "outputs": [],
   "source": [
    "class Node:\n",
    "    def __init__(self,data):\n",
    "        self.data = data\n",
    "        self.next = None"
   ]
  },
  {
   "cell_type": "code",
   "execution_count": 2,
   "id": "820800e0",
   "metadata": {},
   "outputs": [],
   "source": [
    "class LinkedList:\n",
    "    def __init__(self):\n",
    "        self.head = None\n",
    "        \n",
    "    def insertionAtBegin(self,new_data):\n",
    "        new_node = Node(new_data)\n",
    "        new_node.next = self.head\n",
    "        self.head = new_node\n",
    "        \n",
    "    def insertionNext(self,prev_node,data):\n",
    "        if prev_node is None:\n",
    "            print(\"\")\n",
    "            return\n",
    "        \n",
    "        new_node = Node(data)\n",
    "        new_node.next = prev_node.next\n",
    "        prev_node.next = new_node\n",
    "        \n",
    "    def printlist(self):\n",
    "        temp = self.head\n",
    "        while(temp):\n",
    "            print(temp.data)\n",
    "            temp = temp.next"
   ]
  },
  {
   "cell_type": "code",
   "execution_count": 3,
   "id": "da075219",
   "metadata": {},
   "outputs": [],
   "source": [
    "linklist = LinkedList()\n"
   ]
  },
  {
   "cell_type": "code",
   "execution_count": 4,
   "id": "143702cd",
   "metadata": {},
   "outputs": [
    {
     "name": "stdout",
     "output_type": "stream",
     "text": [
      "3\n",
      "1\n",
      "2\n"
     ]
    }
   ],
   "source": [
    "linklist.insertionAtBegin(1)\n",
    "linklist.insertionAtBegin(3)\n",
    "#linklist.insertionNext(linklist.head,2)\n",
    "linklist.insertionNext(linklist.head.next,2)\n",
    "linklist.printlist()"
   ]
  }
 ],
 "metadata": {
  "kernelspec": {
   "display_name": "Python 3",
   "language": "python",
   "name": "python3"
  },
  "language_info": {
   "codemirror_mode": {
    "name": "ipython",
    "version": 3
   },
   "file_extension": ".py",
   "mimetype": "text/x-python",
   "name": "python",
   "nbconvert_exporter": "python",
   "pygments_lexer": "ipython3",
   "version": "3.8.10"
  }
 },
 "nbformat": 4,
 "nbformat_minor": 5
}
