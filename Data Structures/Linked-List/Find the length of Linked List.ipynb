{
 "cells": [
  {
   "cell_type": "code",
   "execution_count": 1,
   "id": "e09cd28b",
   "metadata": {},
   "outputs": [],
   "source": [
    "class Node:\n",
    "    def __init__(self,data):\n",
    "        self.data = data\n",
    "        self.next = None"
   ]
  },
  {
   "cell_type": "code",
   "execution_count": 2,
   "id": "f2438d65",
   "metadata": {},
   "outputs": [],
   "source": [
    "class LinkedList:\n",
    "    def __init__(self):\n",
    "        self.head = None\n",
    "        \n",
    "    def insertion(self,new_data):\n",
    "        newnode = Node(new_data)\n",
    "        newnode.next = self.head\n",
    "        self.head = newnode\n",
    "        \n",
    "    #Ilterative Method    \n",
    "    def LengthIlt(self):\n",
    "        count = 0\n",
    "        temp = self.head\n",
    "        while temp:\n",
    "            count = count + 1\n",
    "            temp = temp.next\n",
    "        return count\n",
    "    \n",
    "    #Recursive Method\n",
    "    def LengthRec(self,temp):\n",
    "        if temp is None:\n",
    "            return 0\n",
    "        else:\n",
    "            return 1 + self.LengthRec(temp.next)\n",
    "        \n",
    "    def LengthRecu(self):\n",
    "        return self.LengthRec(self.head)\n",
    "        \n",
    "    def Printlist(self):\n",
    "        temp = self.head\n",
    "        while temp:\n",
    "            print(\"%d\" %temp.data)\n",
    "            temp = temp.next\n",
    "            "
   ]
  },
  {
   "cell_type": "code",
   "execution_count": 3,
   "id": "fea8fe8a",
   "metadata": {},
   "outputs": [],
   "source": [
    "l1 = LinkedList()"
   ]
  },
  {
   "cell_type": "code",
   "execution_count": 4,
   "id": "03856c71",
   "metadata": {},
   "outputs": [
    {
     "name": "stdout",
     "output_type": "stream",
     "text": [
      "8\n",
      "3\n",
      "4\n",
      "2\n",
      "3\n",
      "Length of Linked List is (for Ilterative Method) :- 5\n",
      "Length of Linked List is (for Recursive Method) :- 5\n"
     ]
    }
   ],
   "source": [
    "l1.insertion(3)\n",
    "l1.insertion(2)\n",
    "l1.insertion(4)\n",
    "l1.insertion(3)\n",
    "l1.insertion(8)\n",
    "\n",
    "l1.Printlist()\n",
    "\n",
    "print(\"Length of Linked List is (for Ilterative Method) :-\" , l1.LengthIlt())\n",
    "\n",
    "print(\"Length of Linked List is (for Recursive Method) :-\" , l1.LengthRecu())"
   ]
  }
 ],
 "metadata": {
  "kernelspec": {
   "display_name": "Python 3",
   "language": "python",
   "name": "python3"
  },
  "language_info": {
   "codemirror_mode": {
    "name": "ipython",
    "version": 3
   },
   "file_extension": ".py",
   "mimetype": "text/x-python",
   "name": "python",
   "nbconvert_exporter": "python",
   "pygments_lexer": "ipython3",
   "version": "3.8.10"
  }
 },
 "nbformat": 4,
 "nbformat_minor": 5
}
