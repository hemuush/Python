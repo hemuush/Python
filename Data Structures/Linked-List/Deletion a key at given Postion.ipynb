{
 "cells": [
  {
   "cell_type": "code",
   "execution_count": 1,
   "id": "85e30ed5",
   "metadata": {},
   "outputs": [],
   "source": [
    "class Node:\n",
    "    def __init__(self,data):\n",
    "        self.data = data\n",
    "        self.next = None"
   ]
  },
  {
   "cell_type": "code",
   "execution_count": 2,
   "id": "3dabdd54",
   "metadata": {},
   "outputs": [],
   "source": [
    "class LinkedList:\n",
    "    def __init__(self):\n",
    "        self.head = None\n",
    "        \n",
    "    def insertionBegin(self, new_data):\n",
    "        new_node = Node(new_data)\n",
    "        new_node.next = self.head\n",
    "        self.head = new_node\n",
    "        \n",
    "    def insertionAfter(self, prev_node, new_data):\n",
    "        if prev_node is None:\n",
    "            print(\"The given previous node must in Linked List\")\n",
    "            return\n",
    "        \n",
    "        new_node = Node(new_data)\n",
    "        new_node.next = prev_node.next\n",
    "        prev_node.next = new_node\n",
    "        \n",
    "    def insertionEnd(self, new_data):\n",
    "        new_node = Node(new_data)\n",
    "        if self.head is None:\n",
    "            self.head = new_node\n",
    "            return\n",
    "        \n",
    "        last = self.head\n",
    "        while(last.next):\n",
    "            last = last.next\n",
    "            \n",
    "        last.next = new_node\n",
    "        \n",
    "    def deleteNode(self,position):\n",
    "        if self.head is None:\n",
    "            return\n",
    "        \n",
    "        temp = self.head\n",
    "        \n",
    "        if position == 0:\n",
    "            self.head = temp.next\n",
    "            temp = None\n",
    "            return\n",
    "        \n",
    "        for i in range(position - 1):\n",
    "            temp = temp.next\n",
    "            if temp is None:\n",
    "                break\n",
    "                \n",
    "        if temp is None:\n",
    "            return\n",
    "        if temp.next is None:\n",
    "            return\n",
    "        \n",
    "        nextt = temp.next.next\n",
    "        temp.next = None\n",
    "        temp.next = nextt\n",
    "        \n",
    "    def printLinked(self):\n",
    "        temp = self.head\n",
    "        while(temp):\n",
    "            print(temp.data)\n",
    "            temp = temp.next"
   ]
  },
  {
   "cell_type": "code",
   "execution_count": 3,
   "id": "143ee935",
   "metadata": {},
   "outputs": [],
   "source": [
    "l1 = LinkedList()"
   ]
  },
  {
   "cell_type": "code",
   "execution_count": 4,
   "id": "f64e8e80",
   "metadata": {},
   "outputs": [
    {
     "name": "stdout",
     "output_type": "stream",
     "text": [
      "Before Deletion :-\n",
      "12\n",
      "5\n",
      "9\n",
      "1\n",
      "3\n",
      "\n",
      "After Deletion :- \n",
      "12\n",
      "5\n",
      "9\n",
      "3\n"
     ]
    }
   ],
   "source": [
    "l1.insertionBegin(1)\n",
    "l1.insertionBegin(5)\n",
    "l1.insertionAfter(l1.head,9)\n",
    "l1.insertionEnd(3)\n",
    "l1.insertionBegin(12)\n",
    "\n",
    "print(\"Before Deletion :-\")\n",
    "l1.printLinked()\n",
    "print()\n",
    "print(\"After Deletion :- \")\n",
    "l1.deleteNode(3)\n",
    "l1.printLinked()"
   ]
  },
  {
   "cell_type": "code",
   "execution_count": null,
   "id": "e335921e",
   "metadata": {},
   "outputs": [],
   "source": []
  }
 ],
 "metadata": {
  "kernelspec": {
   "display_name": "Python 3",
   "language": "python",
   "name": "python3"
  },
  "language_info": {
   "codemirror_mode": {
    "name": "ipython",
    "version": 3
   },
   "file_extension": ".py",
   "mimetype": "text/x-python",
   "name": "python",
   "nbconvert_exporter": "python",
   "pygments_lexer": "ipython3",
   "version": "3.8.10"
  }
 },
 "nbformat": 4,
 "nbformat_minor": 5
}
