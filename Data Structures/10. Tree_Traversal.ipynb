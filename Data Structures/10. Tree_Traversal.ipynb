{
 "cells": [
  {
   "cell_type": "markdown",
   "id": "e15dd80e",
   "metadata": {},
   "source": [
    "<h2>Tree Data Structure and Algorihm</h2>\n",
    "<h3>Tree Traversal</h3>\n",
    "<p>Preorder, Inorder, Postorder</p>"
   ]
  },
  {
   "cell_type": "code",
   "execution_count": 1,
   "id": "d47f61d1",
   "metadata": {},
   "outputs": [],
   "source": [
    "#Creating a Node Class\n",
    "class Node:\n",
    "    def __init__(self, item):\n",
    "        self.item = item\n",
    "        self.left = None\n",
    "        self.right = None\n",
    "        \n",
    "#Inorder Traversal\n",
    "def Inorder(root):\n",
    "    if root:\n",
    "        \n",
    "        #traverse left\n",
    "        Inorder(root.left)\n",
    "        \n",
    "        #traverse root\n",
    "        print(str(root.item) + \"->\", end = \"\")\n",
    "        \n",
    "        #traverse right\n",
    "        Inorder(root.right)\n",
    "        \n",
    "#PostOrder Traversal\n",
    "def Postorder(root):\n",
    "    if root:\n",
    "        \n",
    "        #traverse left\n",
    "        Postorder(root.left)\n",
    "        \n",
    "        #traverse right\n",
    "        Postorder(root.right)\n",
    "        \n",
    "        #traverse root\n",
    "        print(str(root.item) + \"->\", end = \"\")\n",
    "        \n",
    "#Preorder Traversal\n",
    "def Preorder(root):\n",
    "    if root:\n",
    "        \n",
    "        #traverse root\n",
    "        print(str(root.item) + \"->\" , end = \"\")\n",
    "        \n",
    "        #traverse left\n",
    "        Preorder(root.left)\n",
    "        \n",
    "        #traverse right\n",
    "        Preorder(root.right)"
   ]
  },
  {
   "cell_type": "code",
   "execution_count": 2,
   "id": "ac3cbd14",
   "metadata": {},
   "outputs": [],
   "source": [
    "root = Node(1)\n",
    "root.left = Node(2)\n",
    "root.right = Node(3)\n",
    "root.left.left = Node(4)\n",
    "root.left.right = Node(5)"
   ]
  },
  {
   "cell_type": "markdown",
   "id": "d2d52249",
   "metadata": {},
   "source": [
    "<h5>Inorder Traversal</h5>"
   ]
  },
  {
   "cell_type": "code",
   "execution_count": 3,
   "id": "22fd9e99",
   "metadata": {},
   "outputs": [
    {
     "name": "stdout",
     "output_type": "stream",
     "text": [
      "4->2->5->1->3->"
     ]
    }
   ],
   "source": [
    "Inorder(root)"
   ]
  },
  {
   "cell_type": "markdown",
   "id": "6a66ba33",
   "metadata": {},
   "source": [
    "<h5>Preorder Traversal</h5>"
   ]
  },
  {
   "cell_type": "code",
   "execution_count": 4,
   "id": "a2016d51",
   "metadata": {},
   "outputs": [
    {
     "name": "stdout",
     "output_type": "stream",
     "text": [
      "1->2->4->5->3->"
     ]
    }
   ],
   "source": [
    "Preorder(root)"
   ]
  },
  {
   "cell_type": "markdown",
   "id": "4fc8557d",
   "metadata": {},
   "source": [
    "<h5>Postorder Traversal</h5>"
   ]
  },
  {
   "cell_type": "code",
   "execution_count": 5,
   "id": "58d912e6",
   "metadata": {},
   "outputs": [
    {
     "name": "stdout",
     "output_type": "stream",
     "text": [
      "4->5->2->3->1->"
     ]
    }
   ],
   "source": [
    "Postorder(root)"
   ]
  }
 ],
 "metadata": {
  "kernelspec": {
   "display_name": "Python 3",
   "language": "python",
   "name": "python3"
  },
  "language_info": {
   "codemirror_mode": {
    "name": "ipython",
    "version": 3
   },
   "file_extension": ".py",
   "mimetype": "text/x-python",
   "name": "python",
   "nbconvert_exporter": "python",
   "pygments_lexer": "ipython3",
   "version": "3.8.8"
  }
 },
 "nbformat": 4,
 "nbformat_minor": 5
}
